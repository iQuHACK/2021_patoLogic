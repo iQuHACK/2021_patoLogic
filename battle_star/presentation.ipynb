{
 "cells": [
  {
   "cell_type": "code",
   "execution_count": 1,
   "metadata": {},
   "outputs": [],
   "source": [
    "import numpy as np\n",
    "\n",
    "from generate_puzzle import generate_puzzle\n",
    "from solve_puzzle import solve_puzzle"
   ]
  },
  {
   "cell_type": "markdown",
   "metadata": {},
   "source": [
    "Let us generate a puzzle"
   ]
  },
  {
   "cell_type": "code",
   "execution_count": 1,
   "metadata": {},
   "outputs": [
    {
     "ename": "NameError",
     "evalue": "name 'generate_puzzle' is not defined",
     "output_type": "error",
     "traceback": [
      "\u001b[0;31m---------------------------------------------------------------------------\u001b[0m",
      "\u001b[0;31mNameError\u001b[0m                                 Traceback (most recent call last)",
      "\u001b[0;32m<ipython-input-1-8de7770083e3>\u001b[0m in \u001b[0;36m<module>\u001b[0;34m\u001b[0m\n\u001b[1;32m      2\u001b[0m \u001b[0mnstars\u001b[0m \u001b[0;34m=\u001b[0m \u001b[0;36m2\u001b[0m\u001b[0;34m\u001b[0m\u001b[0;34m\u001b[0m\u001b[0m\n\u001b[1;32m      3\u001b[0m \u001b[0;34m\u001b[0m\u001b[0m\n\u001b[0;32m----> 4\u001b[0;31m \u001b[0mregion_grid\u001b[0m\u001b[0;34m,\u001b[0m \u001b[0mstar_grid\u001b[0m \u001b[0;34m=\u001b[0m \u001b[0mgenerate_puzzle\u001b[0m\u001b[0;34m(\u001b[0m\u001b[0mN\u001b[0m\u001b[0;34m,\u001b[0m \u001b[0mnstars\u001b[0m\u001b[0;34m,\u001b[0m \u001b[0mannealer\u001b[0m\u001b[0;34m=\u001b[0m\u001b[0;34m\"neal\"\u001b[0m\u001b[0;34m,\u001b[0m \u001b[0mnum_reads\u001b[0m\u001b[0;34m=\u001b[0m\u001b[0;36m100\u001b[0m\u001b[0;34m)\u001b[0m\u001b[0;34m\u001b[0m\u001b[0;34m\u001b[0m\u001b[0m\n\u001b[0m\u001b[1;32m      5\u001b[0m \u001b[0mprint\u001b[0m\u001b[0;34m(\u001b[0m\u001b[0mregion_grid\u001b[0m\u001b[0;34m,\u001b[0m \u001b[0mstar_grid\u001b[0m\u001b[0;34m,\u001b[0m \u001b[0msep\u001b[0m\u001b[0;34m=\u001b[0m\u001b[0;34m'\\n'\u001b[0m\u001b[0;34m)\u001b[0m\u001b[0;34m\u001b[0m\u001b[0;34m\u001b[0m\u001b[0m\n",
      "\u001b[0;31mNameError\u001b[0m: name 'generate_puzzle' is not defined"
     ]
    }
   ],
   "source": [
    "N = 10\n",
    "nstars = 2\n",
    "\n",
    "region_grid, star_grid = generate_puzzle(N, nstars, annealer=\"neal\", num_reads=100)\n",
    "print(region_grid, star_grid, sep='\\n')"
   ]
  },
  {
   "cell_type": "markdown",
   "metadata": {},
   "source": [
    "Let us solve the problem for this region"
   ]
  },
  {
   "cell_type": "code",
   "execution_count": 3,
   "metadata": {},
   "outputs": [
    {
     "data": {
      "text/plain": [
       "'\\nregion_grid = np.array([\\n    [0, 0, 0, 0, 1, 1, 2, 2, 2, 2],\\n    [0, 4, 0, 0, 1, 1, 1, 2, 1, 1],\\n    [0, 4, 4, 1, 1, 1, 1, 1, 1, 1],\\n    [4, 4, 4, 4, 1, 5, 5, 5, 5, 1],\\n    [4, 4, 1, 1, 1, 1, 1, 1, 5, 1],\\n    [6, 6, 6, 6, 7, 7, 8, 8, 8, 8],\\n    [6, 9, 6, 6, 7, 7, 7, 8, 7, 7],\\n    [6, 9, 9, 7, 7, 7, 7, 7, 7, 7],\\n    [9, 9, 9, 9, 7, 10, 10, 10, 10, 7],\\n    [9, 9, 7, 7, 7, 7, 7, 7, 10, 7],\\n])\\n'"
      ]
     },
     "execution_count": 3,
     "metadata": {},
     "output_type": "execute_result"
    }
   ],
   "source": [
    "\"\"\"\n",
    "region_grid = np.array([\n",
    "    [0, 0, 0, 0, 1, 1, 2, 2, 2, 2],\n",
    "    [0, 4, 0, 0, 1, 1, 1, 2, 1, 1],\n",
    "    [0, 4, 4, 1, 1, 1, 1, 1, 1, 1],\n",
    "    [4, 4, 4, 4, 1, 5, 5, 5, 5, 1],\n",
    "    [4, 4, 1, 1, 1, 1, 1, 1, 5, 1],\n",
    "    [6, 6, 6, 6, 7, 7, 8, 8, 8, 8],\n",
    "    [6, 9, 6, 6, 7, 7, 7, 8, 7, 7],\n",
    "    [6, 9, 9, 7, 7, 7, 7, 7, 7, 7],\n",
    "    [9, 9, 9, 9, 7, 10, 10, 10, 10, 7],\n",
    "    [9, 9, 7, 7, 7, 7, 7, 7, 10, 7],\n",
    "])\n",
    "\"\"\""
   ]
  },
  {
   "cell_type": "code",
   "execution_count": 5,
   "metadata": {},
   "outputs": [
    {
     "name": "stdout",
     "output_type": "stream",
     "text": [
      "[[0 0 0 0 1 0 0 1 0 0]\n",
      " [0 1 0 0 0 0 0 0 0 1]\n",
      " [0 0 0 1 0 1 0 0 0 0]\n",
      " [1 0 0 0 0 0 0 0 1 0]\n",
      " [0 0 1 0 1 0 0 0 0 0]\n",
      " [0 0 0 0 0 0 1 0 0 1]\n",
      " [1 0 1 0 0 0 0 0 0 0]\n",
      " [0 0 0 0 0 0 1 0 1 0]\n",
      " [0 1 0 1 0 0 0 0 0 0]\n",
      " [0 0 0 0 0 1 0 1 0 0]]\n"
     ]
    }
   ],
   "source": [
    "solution_grid = solve_puzzle(N, nstars, region_grid, annealer=\"neal\", num_reads=200)\n",
    "print(solution_grid)"
   ]
  },
  {
   "cell_type": "code",
   "execution_count": null,
   "metadata": {},
   "outputs": [],
   "source": []
  }
 ],
 "metadata": {
  "kernelspec": {
   "display_name": "Python 3",
   "language": "python",
   "name": "python3"
  },
  "language_info": {
   "codemirror_mode": {
    "name": "ipython",
    "version": 3
   },
   "file_extension": ".py",
   "mimetype": "text/x-python",
   "name": "python",
   "nbconvert_exporter": "python",
   "pygments_lexer": "ipython3",
   "version": "3.7.6"
  }
 },
 "nbformat": 4,
 "nbformat_minor": 4
}
