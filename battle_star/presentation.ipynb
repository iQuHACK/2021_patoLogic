{
 "cells": [
  {
   "cell_type": "code",
   "execution_count": 1,
   "metadata": {},
   "outputs": [],
   "source": [
    "import numpy as np\n",
    "\n",
    "from battle_star import generate_puzzle, solve_puzzle, draw_puzzle"
   ]
  },
  {
   "cell_type": "markdown",
   "metadata": {},
   "source": [
    "Let us generate a puzzle"
   ]
  },
  {
   "cell_type": "code",
   "execution_count": 2,
   "metadata": {},
   "outputs": [],
   "source": [
    "N = 10\n",
    "nstars = 2\n",
    "\n",
    "region_grid, star_grid = generate_puzzle(N, nstars, annealer=\"leap\", num_reads=100)"
   ]
  },
  {
   "cell_type": "code",
   "execution_count": 3,
   "metadata": {},
   "outputs": [
    {
     "name": "stdout",
     "output_type": "stream",
     "text": [
      "[[7 7 7 7 0 0 4 4 4 4]\n",
      " [7 7 7 7 0 0 4 4 4 4]\n",
      " [9 9 7 7 0 0 0 4 4 4]\n",
      " [9 9 3 3 0 0 5 5 5 5]\n",
      " [9 9 3 3 3 8 8 5 5 5]\n",
      " [9 9 3 3 3 8 8 5 5 5]\n",
      " [9 9 2 3 3 8 8 8 6 6]\n",
      " [2 2 2 1 1 8 8 8 6 6]\n",
      " [2 2 2 1 1 1 1 6 6 6]\n",
      " [2 2 2 1 1 1 1 6 6 6]]\n",
      "[[0 1 0 0 0 0 0 0 1 0]\n",
      " [0 0 0 0 1 0 1 0 0 0]\n",
      " [1 0 1 0 0 0 0 0 0 0]\n",
      " [0 0 0 0 0 1 0 1 0 0]\n",
      " [0 1 0 1 0 0 0 0 0 0]\n",
      " [0 0 0 0 0 0 1 0 1 0]\n",
      " [0 0 1 0 1 0 0 0 0 0]\n",
      " [0 0 0 0 0 0 0 1 0 1]\n",
      " [1 0 0 0 0 1 0 0 0 0]\n",
      " [0 0 0 1 0 0 0 0 0 1]]\n"
     ]
    }
   ],
   "source": [
    "draw_puzzle(region_grid, star_grid)\n",
    "print(region_grid, star_grid, sep='\\n')"
   ]
  },
  {
   "cell_type": "markdown",
   "metadata": {},
   "source": [
    "Let us solve the problem for this region"
   ]
  },
  {
   "cell_type": "code",
   "execution_count": 4,
   "metadata": {},
   "outputs": [],
   "source": [
    "region_grid = np.array([\n",
    "    [0, 0, 0, 0, 1, 1, 2, 2, 2, 2],\n",
    "    [0, 4, 0, 0, 1, 1, 1, 2, 1, 1],\n",
    "    [0, 4, 4, 1, 1, 1, 1, 1, 1, 1],\n",
    "    [4, 4, 4, 4, 1, 5, 5, 5, 5, 1],\n",
    "    [4, 4, 1, 1, 1, 1, 1, 1, 5, 1],\n",
    "    [6, 6, 6, 6, 7, 7, 8, 8, 8, 8],\n",
    "    [6, 9, 6, 6, 7, 7, 7, 8, 7, 7],\n",
    "    [6, 9, 9, 7, 7, 7, 7, 7, 7, 7],\n",
    "    [9, 9, 9, 9, 7, 10, 10, 10, 10, 7],\n",
    "    [9, 9, 7, 7, 7, 7, 7, 7, 10, 7],\n",
    "])"
   ]
  },
  {
   "cell_type": "code",
   "execution_count": 4,
   "metadata": {},
   "outputs": [
    {
     "name": "stdout",
     "output_type": "stream",
     "text": [
      "[[1 0 0 0 0 0 0 0 1 0]\n",
      " [0 0 0 1 0 1 0 0 0 0]\n",
      " [0 1 0 0 0 0 0 0 1 0]\n",
      " [0 0 0 0 1 0 1 0 0 0]\n",
      " [1 0 1 0 0 0 0 0 0 0]\n",
      " [0 0 0 0 0 1 0 1 0 0]\n",
      " [0 0 0 1 0 0 0 0 0 1]\n",
      " [0 1 0 0 0 0 0 1 0 0]\n",
      " [0 0 0 0 1 0 0 0 0 1]\n",
      " [0 0 1 0 0 0 1 0 0 0]]\n"
     ]
    }
   ],
   "source": [
    "solution_grid = solve_puzzle(N, nstars, region_grid, annealer=\"neal\", num_reads=200)\n",
    "print(solution_grid)"
   ]
  },
  {
   "cell_type": "code",
   "execution_count": 5,
   "metadata": {},
   "outputs": [],
   "source": [
    "draw_puzzle(region_grid, solution_grid)"
   ]
  },
  {
   "cell_type": "code",
   "execution_count": null,
   "metadata": {},
   "outputs": [],
   "source": []
  }
 ],
 "metadata": {
  "kernelspec": {
   "display_name": "Python 3",
   "language": "python",
   "name": "python3"
  },
  "language_info": {
   "codemirror_mode": {
    "name": "ipython",
    "version": 3
   },
   "file_extension": ".py",
   "mimetype": "text/x-python",
   "name": "python",
   "nbconvert_exporter": "python",
   "pygments_lexer": "ipython3",
   "version": "3.7.6"
  }
 },
 "nbformat": 4,
 "nbformat_minor": 4
}
