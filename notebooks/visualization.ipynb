{
 "cells": [
  {
   "cell_type": "markdown",
   "metadata": {},
   "source": [
    "# Very simple puzzle visualization"
   ]
  },
  {
   "cell_type": "code",
   "execution_count": 26,
   "metadata": {},
   "outputs": [],
   "source": [
    "import numpy as np\n",
    "import matplotlib.pyplot as plt"
   ]
  },
  {
   "cell_type": "code",
   "execution_count": 3,
   "metadata": {},
   "outputs": [],
   "source": [
    "grid = np.array([[0,1,1,1,1],\n",
    "                [0,1,1,1,2],\n",
    "                [0,0,0,2,2],\n",
    "                [3,0,3,2,2],\n",
    "                [3,3,3,4,4]])\n",
    "\n",
    "star = np.array([[0,1,0,0,0],\n",
    "                [0,0,0,0,1],\n",
    "                [0,0,1,0,0],\n",
    "                [1,0,0,0,0],\n",
    "                [0,0,0,1,0]])"
   ]
  },
  {
   "cell_type": "code",
   "execution_count": 24,
   "metadata": {},
   "outputs": [],
   "source": [
    "def draw_puzzle(grid,star):\n",
    "    fig, ax = plt.subplots()\n",
    "    mat = ax.imshow(grid, cmap='GnBu', interpolation='nearest')\n",
    "    for x in range(star.shape[0]):\n",
    "        for y in range(star.shape[1]):\n",
    "            if star[x,y] == 1:\n",
    "                ax.annotate(\"*\", xy=(y, x), horizontalalignment='center', verticalalignment='center',size=30)\n",
    "    plt.xticks([])\n",
    "    plt.yticks([])\n",
    "    plt.show()"
   ]
  },
  {
   "cell_type": "code",
   "execution_count": 25,
   "metadata": {},
   "outputs": [
    {
     "data": {
      "image/png": "[encoded data removed]",
      "text/plain": [
       "<Figure size 432x288 with 1 Axes>"
      ]
     },
     "metadata": {},
     "output_type": "display_data"
    }
   ],
   "source": [
    "draw_puzzle(grid,star)"
   ]
  },
  {
   "cell_type": "code",
   "execution_count": null,
   "metadata": {},
   "outputs": [],
   "source": []
  }
 ],
 "metadata": {
  "kernelspec": {
   "display_name": "Python 3",
   "language": "python",
   "name": "python3"
  },
  "language_info": {
   "codemirror_mode": {
    "name": "ipython",
    "version": 3
   },
   "file_extension": ".py",
   "mimetype": "text/x-python",
   "name": "python",
   "nbconvert_exporter": "python",
   "pygments_lexer": "ipython3",
   "version": "3.7.6"
  }
 },
 "nbformat": 4,
 "nbformat_minor": 4
}
