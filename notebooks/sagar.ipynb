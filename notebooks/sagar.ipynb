{
 "cells": [
  {
   "cell_type": "code",
   "execution_count": 60,
   "metadata": {},
   "outputs": [],
   "source": [
    "from collections import defaultdict\n",
    "import itertools as it\n",
    "import numpy as np\n",
    "\n",
    "from adict import adict"
   ]
  },
  {
   "cell_type": "code",
   "execution_count": 93,
   "metadata": {},
   "outputs": [],
   "source": [
    "def x(indices):\n",
    "    \"\"\"Variable label\"\"\"\n",
    "    i, j = indices\n",
    "    return f\"x{i}_{j}\"\n",
    "\n",
    "def ind(var: str):\n",
    "    \"\"\"Return position indices from variable label\"\"\"\n",
    "    i, j = var[1:].split('_')\n",
    "    return (int(i), int(j))\n",
    "\n",
    "def to_grid(dictionary):\n",
    "    star_positions = [ind(var) for var, value in dictionary.items() if value == 1]\n",
    "    print(star_positions)\n",
    "    grid = np.zeros((N, N), dtype=int)\n",
    "    for (i, j) in star_positions:\n",
    "        solution[i, j] = 1\n",
    "    return grid\n",
    "\n",
    "def row_regions(N):\n",
    "    return [[(i, j) for j in range(N)] for i in range(N)]\n",
    "\n",
    "def column_regions(N):\n",
    "    return [[(i, j) for i in range(N)] for j in range(N)]\n",
    "\n",
    "def region_lists(grid: np.array):\n",
    "    \"\"\"Lists of region indices from grid\"\"\"\n",
    "    regions = defaultdict(list)\n",
    "    for (i, j), r in np.ndenumerate(grid):\n",
    "        regions[r].append((i, j))\n",
    "    return list(regions.values())"
   ]
  },
  {
   "cell_type": "code",
   "execution_count": 94,
   "metadata": {},
   "outputs": [],
   "source": [
    "\"\"\"Penalties and constraints\"\"\"\n",
    "\n",
    "def penalties(N):\n",
    "    \"\"\"Closest neighbours should be different.\n",
    "    This is a penalty of type x * y, which is 1 iff x = y = 1.\"\"\"\n",
    "\n",
    "    Q = adict(int)\n",
    "    positions = it.product(range(N-1), repeat=2)  # Exclude last row/column\n",
    "\n",
    "    for (i, j) in positions:\n",
    "        neighbours = [(i+1, j), (i, j+1), (i+1, j+1)]\n",
    "        for (k, l) in neighbours:\n",
    "            Q[x((i,j)), x((k,l))] += 1\n",
    "        Q[x((i+1, j)), x((i, j+1))]  # Anti-diagonal\n",
    "\n",
    "    for l in range(N-1):\n",
    "        Q[x((N-1, l  )), x((N-1, l+1))] += 1\n",
    "        Q[x((l,   N-1)), x((l+1, N-1))] += 1\n",
    "        \n",
    "    return Q\n",
    "\n",
    "def region_constraint(region: list, stars: int):\n",
    "    \"\"\"All points in :region: sum to :stars:.\"\"\"\n",
    "    Q = adict(int)\n",
    "    for (i, j) in region:\n",
    "        Q[ ( x((i,j)) , x((i,j)) ) ] += (-stars+1)\n",
    "        for (l, p) in region:\n",
    "            if (l, p) != (i, j):\n",
    "                Q[ ( x((i,j)) , x((l,p)) ) ] += 1\n",
    "    return Q"
   ]
  },
  {
   "cell_type": "code",
   "execution_count": 95,
   "metadata": {},
   "outputs": [],
   "source": [
    "# Input data\n",
    "\n",
    "N = 5  # Grid size\n",
    "nstars = 1  # Number of stars\n",
    "\n",
    "grid = np.array([[0,1,1,1,1],\n",
    "                [0,1,1,1,2],\n",
    "                [0,0,0,2,2],\n",
    "                [3,0,3,2,2],\n",
    "                [3,3,3,4,4]])\n",
    "\n",
    "star = np.array([[0,1,0,0,0],\n",
    "                [0,0,0,0,1],\n",
    "                [0,0,1,0,0],\n",
    "                [1,0,0,0,0],\n",
    "                [0,0,0,1,0]])"
   ]
  },
  {
   "cell_type": "code",
   "execution_count": 118,
   "metadata": {},
   "outputs": [],
   "source": [
    "# Build QUBO\n",
    "\n",
    "Q = penalties(N)\n",
    "\n",
    "regions = [\n",
    "    *region_lists(grid),\n",
    "    *row_regions(N),\n",
    "    *column_regions(N),\n",
    "]\n",
    "\n",
    "for region in regions:\n",
    "    Q += region_constraint(region, nstars)"
   ]
  },
  {
   "cell_type": "markdown",
   "metadata": {},
   "source": [
    "### Annealing"
   ]
  },
  {
   "cell_type": "code",
   "execution_count": 97,
   "metadata": {},
   "outputs": [],
   "source": [
    "# Create Sampler\n",
    "\n",
    "import neal\n",
    "sampler = neal.SimulatedAnnealingSampler()"
   ]
  },
  {
   "cell_type": "code",
   "execution_count": 98,
   "metadata": {},
   "outputs": [
    {
     "name": "stdout",
     "output_type": "stream",
     "text": [
      "   x0_0 x0_1 x0_2 x0_3 x0_4 x1_0 x1_1 x1_2 x1_3 x1_4 ... x4_4 energy num_oc.\n",
      "0     0    0    0    0    0    0    1    0    0    0 ...    0    0.0       1\n",
      "1     1    0    0    0    0    0    0    0    0    0 ...    1    0.0       1\n",
      "2     0    0    0    1    0    0    0    0    0    0 ...    0    0.0       1\n",
      "3     0    0    0    0    0    0    0    0    0    0 ...    0    0.0       1\n",
      "4     0    1    0    0    0    0    0    0    0    0 ...    0    0.0       1\n",
      "5     0    0    1    0    0    0    0    0    0    0 ...    0    0.0       1\n",
      "6     0    1    0    0    0    0    0    0    0    0 ...    1    0.0       1\n",
      "7     0    0    1    0    0    0    0    0    0    1 ...    0    0.0       1\n",
      "8     1    0    0    0    0    0    0    1    0    0 ...    0    0.0       1\n",
      "9     0    0    0    0    0    0    0    0    1    0 ...    0    0.0       1\n",
      "10    0    1    0    0    0    0    0    0    0    0 ...    0    0.0       1\n",
      "11    0    0    0    0    1    0    0    0    0    0 ...    0    0.0       1\n",
      "12    0    0    0    0    0    0    1    0    0    0 ...    1    0.0       1\n",
      "13    0    0    0    1    0    0    0    0    0    0 ...    1    0.0       1\n",
      "14    0    0    0    0    0    0    0    1    0    0 ...    0    0.0       1\n",
      "15    1    0    0    0    0    0    0    0    0    0 ...    1    0.0       1\n",
      "16    1    0    0    0    0    0    0    0    0    0 ...    0    0.0       1\n",
      "17    0    0    0    0    0    0    1    0    0    0 ...    0    0.0       1\n",
      "18    1    0    0    0    0    0    0    0    1    0 ...    0    0.0       1\n",
      "19    0    0    0    1    0    0    0    0    0    0 ...    0    0.0       1\n",
      "['BINARY', 20 rows, 20 samples, 25 variables]\n"
     ]
    }
   ],
   "source": [
    "# Try Sampling\n",
    "\n",
    "sampleset = sampler.sample_qubo(Q, num_reads=20)\n",
    "print(sampleset)"
   ]
  },
  {
   "cell_type": "code",
   "execution_count": 119,
   "metadata": {},
   "outputs": [],
   "source": [
    "def region_criterion(sample, region: list, nstars: int):\n",
    "    '''Check if :sample: respects :region: criterion'''\n",
    "    region_sum = sum(sample[x((i, j))] for (i, j) in region)\n",
    "    return region_sum == nstars\n",
    "    \n",
    "def proximity_criterion(sample):\n",
    "    star_positions = [ind(var) for var, value in sample.items() if value == 1]\n",
    "    bad_distances = {(0, 1), (1, 0), (1, 1)}\n",
    "    for (i, j), (i_, j_) in it.combinations(star_positions, 2):\n",
    "        dist = di, dj = abs(i - i_), abs(j - j_)\n",
    "        if dist in bad_distances:\n",
    "            return False\n",
    "    return True\n",
    "\n",
    "def confirm_solution(sample, regions, stars):\n",
    "    '''Check if sample corresponds solves problem'''\n",
    "    for region in regions:\n",
    "        if region_criterion(sample, region, starts) == False:\n",
    "            return False\n",
    "        \n",
    "    if proximity_criterion(sample) == False:\n",
    "            return False\n",
    "    \n",
    "    return True"
   ]
  },
  {
   "cell_type": "code",
   "execution_count": 100,
   "metadata": {},
   "outputs": [],
   "source": [
    "import matplotlib.pyplot as plt\n",
    "\n",
    "def draw_puzzle(grid, star):\n",
    "    fig, ax = plt.subplots()\n",
    "    mat = ax.imshow(grid, cmap='GnBu', interpolation='nearest')\n",
    "    for x in range(star.shape[0]):\n",
    "        for y in range(star.shape[1]):\n",
    "            if star[x,y] == 1:\n",
    "                ax.annotate(\"*\", xy=(y, x), horizontalalignment='center', verticalalignment='center',size=30)\n",
    "    plt.xticks([])\n",
    "    plt.yticks([])\n",
    "    plt.show()\n",
    "    \n",
    "def sample_to_plot(sample):\n",
    "    star_positions = [ind(var) for var, value in sample.items() if value == 1]\n",
    "    solution = np.zeros((N, N), dtype=int)\n",
    "    for (i, j) in star_positions:\n",
    "        solution[i, j] = 1\n",
    "    draw_puzzle(grid,solution)"
   ]
  },
  {
   "cell_type": "code",
   "execution_count": 114,
   "metadata": {},
   "outputs": [
    {
     "data": {
      "image/png": "[encoded data removed]",
      "text/plain": [
       "<Figure size 432x288 with 1 Axes>"
      ]
     },
     "metadata": {},
     "output_type": "display_data"
    },
    {
     "data": {
      "image/png": "[encoded data removed]",
      "text/plain": [
       "<Figure size 432x288 with 1 Axes>"
      ]
     },
     "metadata": {},
     "output_type": "display_data"
    },
    {
     "data": {
      "image/png": "[encoded data removed]",
      "text/plain": [
       "<Figure size 432x288 with 1 Axes>"
      ]
     },
     "metadata": {},
     "output_type": "display_data"
    },
    {
     "data": {
      "image/png": "[encoded data removed]",
      "text/plain": [
       "<Figure size 432x288 with 1 Axes>"
      ]
     },
     "metadata": {},
     "output_type": "display_data"
    },
    {
     "data": {
      "image/png": "[encoded data removed]",
      "text/plain": [
       "<Figure size 432x288 with 1 Axes>"
      ]
     },
     "metadata": {},
     "output_type": "display_data"
    },
    {
     "data": {
      "image/png": "[encoded data removed]",
      "text/plain": [
       "<Figure size 432x288 with 1 Axes>"
      ]
     },
     "metadata": {},
     "output_type": "display_data"
    },
    {
     "data": {
      "image/png": "[encoded data removed]",
      "text/plain": [
       "<Figure size 432x288 with 1 Axes>"
      ]
     },
     "metadata": {},
     "output_type": "display_data"
    },
    {
     "data": {
      "image/png": "[encoded data removed]",
      "text/plain": [
       "<Figure size 432x288 with 1 Axes>"
      ]
     },
     "metadata": {},
     "output_type": "display_data"
    },
    {
     "data": {
      "image/png": "[encoded data removed]",
      "text/plain": [
       "<Figure size 432x288 with 1 Axes>"
      ]
     },
     "metadata": {},
     "output_type": "display_data"
    },
    {
     "data": {
      "image/png": "[encoded data removed]",
      "text/plain": [
       "<Figure size 432x288 with 1 Axes>"
      ]
     },
     "metadata": {},
     "output_type": "display_data"
    },
    {
     "data": {
      "image/png": "[encoded data removed]",
      "text/plain": [
       "<Figure size 432x288 with 1 Axes>"
      ]
     },
     "metadata": {},
     "output_type": "display_data"
    },
    {
     "data": {
      "image/png": "[encoded data removed]",
      "text/plain": [
       "<Figure size 432x288 with 1 Axes>"
      ]
     },
     "metadata": {},
     "output_type": "display_data"
    },
    {
     "data": {
      "image/png": "[encoded data removed]",
      "text/plain": [
       "<Figure size 432x288 with 1 Axes>"
      ]
     },
     "metadata": {},
     "output_type": "display_data"
    },
    {
     "data": {
      "image/png": "[encoded data removed]",
      "text/plain": [
       "<Figure size 432x288 with 1 Axes>"
      ]
     },
     "metadata": {},
     "output_type": "display_data"
    },
    {
     "data": {
      "image/png": "[encoded data removed]",
      "text/plain": [
       "<Figure size 432x288 with 1 Axes>"
      ]
     },
     "metadata": {},
     "output_type": "display_data"
    },
    {
     "data": {
      "image/png": "[encoded data removed]",
      "text/plain": [
       "<Figure size 432x288 with 1 Axes>"
      ]
     },
     "metadata": {},
     "output_type": "display_data"
    },
    {
     "data": {
      "image/png": "[encoded data removed]",
      "text/plain": [
       "<Figure size 432x288 with 1 Axes>"
      ]
     },
     "metadata": {},
     "output_type": "display_data"
    },
    {
     "data": {
      "image/png": "[encoded data removed]",
      "text/plain": [
       "<Figure size 432x288 with 1 Axes>"
      ]
     },
     "metadata": {},
     "output_type": "display_data"
    }
   ],
   "source": [
    "for sample in sampleset:\n",
    "    if confirm_solution(sample, regions, nstars):\n",
    "        sample_to_plot(sample)"
   ]
  },
  {
   "cell_type": "code",
   "execution_count": null,
   "metadata": {},
   "outputs": [],
   "source": []
  }
 ],
 "metadata": {
  "kernelspec": {
   "display_name": "Python 3",
   "language": "python",
   "name": "python3"
  },
  "language_info": {
   "codemirror_mode": {
    "name": "ipython",
    "version": 3
   },
   "file_extension": ".py",
   "mimetype": "text/x-python",
   "name": "python",
   "nbconvert_exporter": "python",
   "pygments_lexer": "ipython3",
   "version": "3.7.6"
  }
 },
 "nbformat": 4,
 "nbformat_minor": 4
}
