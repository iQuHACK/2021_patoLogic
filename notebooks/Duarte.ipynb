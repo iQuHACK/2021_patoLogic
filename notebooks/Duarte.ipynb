{
 "cells": [
  {
   "cell_type": "code",
   "execution_count": 1,
   "metadata": {},
   "outputs": [],
   "source": [
    "R = [[(1,1),(1,2),(1,3)],\n",
    "    [(1,4),(2,1),(2,2),(2,3),(2,4)]]"
   ]
  },
  {
   "cell_type": "code",
   "execution_count": 8,
   "metadata": {},
   "outputs": [],
   "source": [
    "def row_regions(N,M):\n",
    "    return [[(i,j) for j in range(M)] for i in range(N)]\n",
    "\n",
    "def column_regions(N,M):\n",
    "    return [[(i,j) for i in range(N)] for j in range(M)]\n",
    "\n",
    "def region_lists(grid: np.array):\n",
    "    \"\"\"Lists of region indices from grid\"\"\"\n",
    "    regions = defaultdict(list)\n",
    "    for (i, j), r in np.ndenumerate(grid):\n",
    "        regions[r].append((i, j))\n",
    "    return list(regions.values())"
   ]
  },
  {
   "cell_type": "code",
   "execution_count": 19,
   "metadata": {},
   "outputs": [],
   "source": [
    "from adict import adict"
   ]
  },
  {
   "cell_type": "code",
   "execution_count": 28,
   "metadata": {},
   "outputs": [],
   "source": [
    "Q = adict(int)"
   ]
  },
  {
   "cell_type": "code",
   "execution_count": 29,
   "metadata": {},
   "outputs": [],
   "source": [
    "def x(indices):\n",
    "    \"\"\"Variable label\"\"\"\n",
    "    i, j = indices\n",
    "    return f\"x{i}_{j}\""
   ]
  },
  {
   "cell_type": "code",
   "execution_count": 30,
   "metadata": {},
   "outputs": [],
   "source": [
    "def region_constraint(Q, r, k):\n",
    "    for (i,j) in r:\n",
    "        Q[ ( x((i,j)) , x((i,j)) ) ] += (-k+1)\n",
    "        for (l,p) in r:\n",
    "            if (l,p)!=(i,j):\n",
    "                Q[ ( x((i,j)) , x((l,p)) ) ] += 1"
   ]
  },
  {
   "cell_type": "code",
   "execution_count": 33,
   "metadata": {},
   "outputs": [
    {
     "data": {
      "text/plain": [
       "adict(int,\n",
       "      {('x1_1', 'x1_1'): -1,\n",
       "       ('x1_1', 'x1_2'): 1,\n",
       "       ('x1_1', 'x1_3'): 1,\n",
       "       ('x1_2', 'x1_2'): -1,\n",
       "       ('x1_2', 'x1_1'): 1,\n",
       "       ('x1_2', 'x1_3'): 1,\n",
       "       ('x1_3', 'x1_3'): -1,\n",
       "       ('x1_3', 'x1_1'): 1,\n",
       "       ('x1_3', 'x1_2'): 1})"
      ]
     },
     "execution_count": 33,
     "metadata": {},
     "output_type": "execute_result"
    }
   ],
   "source": [
    "Q = adict(int)\n",
    "region_constraint(Q,R[0],2)\n",
    "Q"
   ]
  },
  {
   "cell_type": "code",
   "execution_count": 34,
   "metadata": {},
   "outputs": [
    {
     "data": {
      "text/plain": [
       "adict(int,\n",
       "      {('x1_1', 'x1_1'): -2,\n",
       "       ('x1_1', 'x1_2'): 2,\n",
       "       ('x1_1', 'x1_3'): 2,\n",
       "       ('x1_2', 'x1_2'): -2,\n",
       "       ('x1_2', 'x1_1'): 2,\n",
       "       ('x1_2', 'x1_3'): 2,\n",
       "       ('x1_3', 'x1_3'): -2,\n",
       "       ('x1_3', 'x1_1'): 2,\n",
       "       ('x1_3', 'x1_2'): 2})"
      ]
     },
     "execution_count": 34,
     "metadata": {},
     "output_type": "execute_result"
    }
   ],
   "source": [
    "Q = adict(int)\n",
    "for r in R:\n",
    "    region_constraint(Q,R[0],2)\n",
    "for line in L:\n",
    "    region_constraint(Q,L[0],2)\n",
    "for row in R:\n",
    "    region_constraint(Q,R[0],2)\n",
    "\n",
    "Q"
   ]
  },
  {
   "cell_type": "code",
   "execution_count": 10,
   "metadata": {},
   "outputs": [
    {
     "data": {
      "text/plain": [
       "[[(0, 0), (1, 0), (2, 0)],\n",
       " [(0, 1), (1, 1), (2, 1)],\n",
       " [(0, 2), (1, 2), (2, 2)],\n",
       " [(0, 3), (1, 3), (2, 3)]]"
      ]
     },
     "execution_count": 10,
     "metadata": {},
     "output_type": "execute_result"
    }
   ],
   "source": [
    "create_columns(3,4)"
   ]
  },
  {
   "cell_type": "code",
   "execution_count": 13,
   "metadata": {},
   "outputs": [
    {
     "name": "stdout",
     "output_type": "stream",
     "text": [
      "1\n",
      "1\n",
      "1\n"
     ]
    }
   ],
   "source": [
    "for (x,y) in R[0]:\n",
    "    print(x)"
   ]
  },
  {
   "cell_type": "code",
   "execution_count": null,
   "metadata": {},
   "outputs": [],
   "source": []
  }
 ],
 "metadata": {
  "kernelspec": {
   "display_name": "Python 3",
   "language": "python",
   "name": "python3"
  },
  "language_info": {
   "codemirror_mode": {
    "name": "ipython",
    "version": 3
   },
   "file_extension": ".py",
   "mimetype": "text/x-python",
   "name": "python",
   "nbconvert_exporter": "python",
   "pygments_lexer": "ipython3",
   "version": "3.7.6"
  }
 },
 "nbformat": 4,
 "nbformat_minor": 4
}
