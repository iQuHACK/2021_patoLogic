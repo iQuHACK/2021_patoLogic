{
 "cells": [
  {
   "cell_type": "code",
   "execution_count": 6,
   "metadata": {},
   "outputs": [],
   "source": [
    "from collections import defaultdict\n",
    "\n",
    "class adict(defaultdict):\n",
    "    \"\"\"Dictionary with algebraic operations\"\"\"\n",
    "    def __add__(self, other):\n",
    "        new = adict(int)\n",
    "        for k in self.keys() | other.keys():\n",
    "            new[k] = self[k] + other[k]\n",
    "        return new\n",
    "\n",
    "    def __sub__(self, other):\n",
    "        new = adict(int)\n",
    "        for k in self.keys() | other.keys():\n",
    "            new[k] = self[k] - other[k]\n",
    "        return new\n",
    "\n",
    "    def __mul__(self, other):\n",
    "        new = adict(int)\n",
    "        if isinstance(other, int):\n",
    "            for k, v in self.items():\n",
    "                new[k] = v * other\n",
    "            return new\n",
    "        else:\n",
    "            for k in self.keys() | other.keys():\n",
    "                new[k] = self[k] * other[k]\n",
    "            return new\n",
    "\n",
    "    def __rmul__(self, other):\n",
    "        return self.__mul__(other)\n",
    "\n",
    "    def __div__(self, other):\n",
    "        new = adict(int)\n",
    "        for k in self.keys() | other.keys():\n",
    "            new[k] = self[k] / other[k]\n",
    "        return new"
   ]
  },
  {
   "cell_type": "code",
   "execution_count": 8,
   "metadata": {},
   "outputs": [],
   "source": [
    "a = adict(int)\n",
    "b = adict(int)\n",
    "\n",
    "a[1], a[2] = 1, 2\n",
    "b[2], b[3] = 2, 3"
   ]
  },
  {
   "cell_type": "code",
   "execution_count": 9,
   "metadata": {},
   "outputs": [
    {
     "data": {
      "text/plain": [
       "adict(int, {1: 1, 2: 4, 3: 3})"
      ]
     },
     "execution_count": 9,
     "metadata": {},
     "output_type": "execute_result"
    }
   ],
   "source": [
    "a + b"
   ]
  },
  {
   "cell_type": "code",
   "execution_count": 10,
   "metadata": {},
   "outputs": [
    {
     "data": {
      "text/plain": [
       "adict(int, {1: 0, 2: 4, 3: 0})"
      ]
     },
     "execution_count": 10,
     "metadata": {},
     "output_type": "execute_result"
    }
   ],
   "source": [
    "a * b"
   ]
  },
  {
   "cell_type": "code",
   "execution_count": 11,
   "metadata": {},
   "outputs": [
    {
     "data": {
      "text/plain": [
       "adict(int, {1: 2, 2: 4, 3: 0})"
      ]
     },
     "execution_count": 11,
     "metadata": {},
     "output_type": "execute_result"
    }
   ],
   "source": [
    "2 * a"
   ]
  },
  {
   "cell_type": "code",
   "execution_count": null,
   "metadata": {},
   "outputs": [],
   "source": []
  }
 ],
 "metadata": {
  "kernelspec": {
   "display_name": "Python 3",
   "language": "python",
   "name": "python3"
  },
  "language_info": {
   "codemirror_mode": {
    "name": "ipython",
    "version": 3
   },
   "file_extension": ".py",
   "mimetype": "text/x-python",
   "name": "python",
   "nbconvert_exporter": "python",
   "pygments_lexer": "ipython3",
   "version": "3.7.6"
  }
 },
 "nbformat": 4,
 "nbformat_minor": 4
}
