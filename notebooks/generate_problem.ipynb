{
 "cells": [
  {
   "cell_type": "code",
   "execution_count": 1,
   "metadata": {},
   "outputs": [],
   "source": [
    "from collections import defaultdict\n",
    "import itertools as it\n",
    "import numpy as np\n",
    "\n",
    "from adict import adict"
   ]
  },
  {
   "cell_type": "code",
   "execution_count": 58,
   "metadata": {},
   "outputs": [],
   "source": [
    "def x(i, j, c):\n",
    "    \"\"\"Variable label\"\"\"\n",
    "    return f\"x{i}_{j}_{c}\"\n",
    "\n",
    "def xs(i, j):\n",
    "    \"\"\"Variable label\"\"\"\n",
    "    return f\"x{i}_{j}\"\n",
    "\n",
    "def ind(var: str):\n",
    "    \"\"\"Return position indices from variable label\"\"\"\n",
    "    i, j, c = var[1:].split('_')\n",
    "    return (int(i), int(j), int(c))\n",
    "\n",
    "def inds(var: str):\n",
    "    \"\"\"Return position indices from variable label\"\"\"\n",
    "    i, j = var[1:].split('_')\n",
    "    return (int(i), int(j))\n",
    "\n",
    "def row_regions(N):\n",
    "    return [[(i, j) for j in range(N)] for i in range(N)]\n",
    "\n",
    "def column_regions(N):\n",
    "    return [[(i, j) for i in range(N)] for j in range(N)]\n",
    "\n",
    "def region_lists(grid: np.array):\n",
    "    \"\"\"Lists of region indices from grid\"\"\"\n",
    "    regions = defaultdict(list)\n",
    "    for (i, j), r in np.ndenumerate(grid):\n",
    "        regions[r].append((i, j))\n",
    "    return list(regions.values())"
   ]
  },
  {
   "cell_type": "code",
   "execution_count": 78,
   "metadata": {},
   "outputs": [],
   "source": [
    "\"\"\"Penalties and constraints\"\"\"\n",
    "\n",
    "def penalties(N):\n",
    "    \"\"\"Closest neighbours should be different.\n",
    "    This is a penalty of type x * y, which is 1 iff x=y=1.\"\"\"\n",
    "\n",
    "    Q = adict(int)\n",
    "    positions = it.product(range(N-1), repeat=2)  # Exclude last row/column\n",
    "\n",
    "    for (i, j) in positions:\n",
    "        neighbours = [(i+1, j), (i, j+1), (i+1, j+1)]\n",
    "        for (i_, j_) in neighbours:\n",
    "            Q[xs(i,j), xs(i_,j_)] += 1\n",
    "        Q[xs(i+1, j), xs(i, j+1)] += 1 # Anti-diagonal\n",
    "\n",
    "    last_row = last_col = N-1\n",
    "    for l in range(N-1):\n",
    "        Q[xs(last_row, l), xs(last_row, l+1)] += 1\n",
    "        Q[xs(l, last_col), xs(l+1, last_col)] += 1\n",
    "        \n",
    "    return Q\n",
    "\n",
    "def region_constraint(region: list, nstars: int):\n",
    "    \"\"\"All points in :region: sum to :nstars:.\"\"\"\n",
    "    Q = adict(int)\n",
    "    for (i, j) in region:\n",
    "        Q[xs(i,j), xs(i,j)] -= 2*nstars\n",
    "        for (l, p) in region:\n",
    "            Q[xs(i,j), xs(l,p)] += 1\n",
    "    return Q\n",
    "\n",
    "def constraint_sum_of_stars(N, nstars, star_positions):\n",
    "    \"\"\"Sum of stars of certain color should be :nstars:\"\"\"\n",
    "    Q = adict(int)\n",
    "    colors = range(N)\n",
    "    #print(star_positions)\n",
    "    #print(it.product(star_positions, repeat=2))\n",
    "    for c in colors:\n",
    "        for (i, j) in star_positions:\n",
    "            Q[x(i, j, c), x(i, j, c)] += -2 * nstars\n",
    "        for (i, j), (i_, j_) in it.product(star_positions, repeat=2):\n",
    "            Q[x(i, j, c), x(i_, j_, c)] += 1\n",
    "    return Q\n",
    "\n",
    "def constraint_unique_color(N):\n",
    "    \"\"\"One site should have only one color.\"\"\"\n",
    "    Q = adict(int)\n",
    "    positions = it.product(range(N), repeat=2)\n",
    "    colors = range(N)\n",
    "    for (i, j) in positions:\n",
    "        for c in colors:\n",
    "            Q[x(i, j, c), x(i, j, c)] += -2\n",
    "        for c, c_ in it.product(colors, repeat=2):\n",
    "            Q[x(i, j, c), x(i, j, c_)] += 1\n",
    "    return Q\n",
    "\n",
    "def constraint_contiguous(N):\n",
    "    \"\"\"A color region should be contiguous.\n",
    "    We favor having same-color neighbours.\"\"\"\n",
    "    Q = adict(int)\n",
    "    positions = it.product(range(N-1), repeat=2)  # Exclude last row/column\n",
    "    colors = range(N)\n",
    "    for c in colors:\n",
    "        for (i, j) in positions:\n",
    "            Q[x(i,j,c), x(i+1,j,c)] += -1\n",
    "            Q[x(i,j,c), x(i,j+1,c)] += -1\n",
    "\n",
    "        last_row = last_col = N-1\n",
    "        for l in range(N-1):\n",
    "            Q[x(last_row, l,c), x(last_row, l+1,c)] += -1\n",
    "            Q[x(l, last_col,c), x(l+1, last_col,c)] += -1\n",
    "        \n",
    "    return Q"
   ]
  },
  {
   "cell_type": "code",
   "execution_count": 81,
   "metadata": {},
   "outputs": [
    {
     "data": {
      "text/plain": [
       "'\\na, b, c, d, e, f, g, h, i, j, k, l, m, n, o = range(15)\\ngrid = np.array([\\n    [a, a, a, a, a, b, b, b, b, b, c, c, c, c, c],\\n    [a, d, d, d, d, b, b, b, b, b, e, e, e, c, c],\\n    [a, d, d, d, d, d, d, b, e, e, e, e, e, e, c],\\n    [a, d, d, d, f, d, d, b, e, e, g, e, e, e, c],\\n    [a, d, d, f, f, f, h, h, h, g, g, g, e, e, c],\\n    [a, a, a, f, f, f, h, h, h, g, g, g, c, c, c],\\n    [a, a, h, h, f, h, h, i, h, h, g, h, c, c, c],\\n    [a, a, a, h, h, h, i, i, i, h, h, h, j, j, j],\\n    [a, a, a, k, k, k, i, i, i, k, k, k, k, l, j],\\n    [a, a, a, m, k, k, k, i, k, k, k, m, l, l, j],\\n    [n, n, n, m, m, k, k, k, k, k, m, m, l, l, j],\\n    [n, n, n, o, m, m, m, m, m, m, m, l, l, l, j],\\n    [n, o, o, o, o, m, m, m, m, m, o, o, l, l, l],\\n    [n, o, o, o, o, o, m, m, m, o, o, o, l, l, l],\\n    [n, n, o, o, o, o, o, o, o, o, o, o, l, l, l],\\n])\\n'"
      ]
     },
     "execution_count": 81,
     "metadata": {},
     "output_type": "execute_result"
    }
   ],
   "source": [
    "# Input data\n",
    "\n",
    "N = 5  # Grid size\n",
    "nstars = 1  # Number of stars\n",
    "\n",
    "\"\"\"\n",
    "grid = np.array([[0,1,1,1,1],\n",
    "                [0,1,1,1,2],\n",
    "                [0,0,0,2,2],\n",
    "                [3,0,3,2,2],\n",
    "                [3,3,3,4,4]])\n",
    "\n",
    "star = np.array([[0,1,0,0,0],\n",
    "                [0,0,0,0,1],\n",
    "                [0,0,1,0,0],\n",
    "                [1,0,0,0,0],\n",
    "                [0,0,0,1,0]])\n",
    "\"\"\"\n",
    "\n",
    "\"\"\"\n",
    "grid = np.array([\n",
    "    [0, 0, 0, 0, 1, 1, 2, 2, 2, 2],\n",
    "    [0, 4, 0, 0, 1, 1, 1, 2, 1, 1],\n",
    "    [0, 4, 4, 1, 1, 1, 1, 1, 1, 1],\n",
    "    [4, 4, 4, 4, 1, 5, 5, 5, 5, 1],\n",
    "    [4, 4, 1, 1, 1, 1, 1, 1, 5, 1],\n",
    "    [6, 6, 6, 6, 7, 7, 8, 8, 8, 8],\n",
    "    [6, 9, 6, 6, 7, 7, 7, 8, 7, 7],\n",
    "    [6, 9, 9, 7, 7, 7, 7, 7, 7, 7],\n",
    "    [9, 9, 9, 9, 7, 10, 10, 10, 10, 7],\n",
    "    [9, 9, 7, 7, 7, 7, 7, 7, 10, 7],\n",
    "])\n",
    "\n",
    "star = np.array([\n",
    "    [0, 0, 0, 1, 0, 0, 0, 0, 0, 1],\n",
    "    [0, 0, 0, 0, 0, 1, 0, 1, 0, 0],\n",
    "    [1, 0, 1, 0, 0, 0, 0, 0, 0, 0],\n",
    "    [0, 0, 0, 0, 0, 0, 1, 0, 1, 0],\n",
    "    [0, 1, 0, 0, 1, 0, 0, 0, 0, 0],\n",
    "    [0, 0, 0, 0, 0, 0, 1, 0, 0, 1],\n",
    "    [0, 0, 1, 0, 1, 0, 0, 0, 0, 0],\n",
    "    [1, 0, 0, 0, 0, 0, 0, 1, 0, 0],\n",
    "    [0, 0, 0, 1, 0, 1, 0, 0, 0, 0],\n",
    "    [0, 1, 0, 0, 0, 0, 0, 0, 1, 0],\n",
    "])\n",
    "\"\"\"\n",
    "\"\"\"\n",
    "a, b, c, d, e, f, g, h, i, j, k, l, m, n, o = range(15)\n",
    "grid = np.array([\n",
    "    [a, a, a, a, a, b, b, b, b, b, c, c, c, c, c],\n",
    "    [a, d, d, d, d, b, b, b, b, b, e, e, e, c, c],\n",
    "    [a, d, d, d, d, d, d, b, e, e, e, e, e, e, c],\n",
    "    [a, d, d, d, f, d, d, b, e, e, g, e, e, e, c],\n",
    "    [a, d, d, f, f, f, h, h, h, g, g, g, e, e, c],\n",
    "    [a, a, a, f, f, f, h, h, h, g, g, g, c, c, c],\n",
    "    [a, a, h, h, f, h, h, i, h, h, g, h, c, c, c],\n",
    "    [a, a, a, h, h, h, i, i, i, h, h, h, j, j, j],\n",
    "    [a, a, a, k, k, k, i, i, i, k, k, k, k, l, j],\n",
    "    [a, a, a, m, k, k, k, i, k, k, k, m, l, l, j],\n",
    "    [n, n, n, m, m, k, k, k, k, k, m, m, l, l, j],\n",
    "    [n, n, n, o, m, m, m, m, m, m, m, l, l, l, j],\n",
    "    [n, o, o, o, o, m, m, m, m, m, o, o, l, l, l],\n",
    "    [n, o, o, o, o, o, m, m, m, o, o, o, l, l, l],\n",
    "    [n, n, o, o, o, o, o, o, o, o, o, o, l, l, l],\n",
    "])\n",
    "\"\"\""
   ]
  },
  {
   "cell_type": "code",
   "execution_count": 82,
   "metadata": {},
   "outputs": [],
   "source": [
    "# Build Star Finder QUBO\n",
    "\n",
    "Q_star = penalties(N)\n",
    "\n",
    "regions = [\n",
    "    *row_regions(N),\n",
    "    *column_regions(N),\n",
    "]\n",
    "\n",
    "γ = 1\n",
    "for region in regions:\n",
    "    Q_star = Q_star + γ * region_constraint(region, nstars)"
   ]
  },
  {
   "cell_type": "code",
   "execution_count": 73,
   "metadata": {},
   "outputs": [],
   "source": [
    "# # Build Star Finder QUBO\n",
    "\n",
    "# Q = penalties(N)\n",
    "\n",
    "# regions = [\n",
    "#     *region_lists(grid),\n",
    "#     *row_regions(N),\n",
    "#     *column_regions(N),\n",
    "# ]\n",
    "\n",
    "# γ = .5\n",
    "# for region in regions:\n",
    "#     Q = Q + γ * region_constraint(region, nstars)"
   ]
  },
  {
   "cell_type": "markdown",
   "metadata": {},
   "source": [
    "### Annealing"
   ]
  },
  {
   "cell_type": "code",
   "execution_count": 83,
   "metadata": {},
   "outputs": [
    {
     "name": "stdout",
     "output_type": "stream",
     "text": [
      "Theory: -10\n",
      "   x0_0 x0_1 x0_2 x0_3 x0_4 x1_0 x1_1 x1_2 x1_3 x1_4 ... x4_4 energy num_oc.\n",
      "0     0    1    0    0    0    0    0    0    1    0 ...    1  -10.0       1\n",
      "1     1    0    0    0    0    0    0    0    1    0 ...    0  -10.0       1\n",
      "2     0    1    0    0    0    0    0    0    1    0 ...    1  -10.0       1\n",
      "3     0    0    0    0    1    0    0    1    0    0 ...    0  -10.0       1\n",
      "4     0    0    0    0    1    0    0    1    0    0 ...    0  -10.0       1\n",
      "5     0    1    0    0    0    0    0    0    1    0 ...    0  -10.0       1\n",
      "6     0    0    0    0    1    0    1    0    0    0 ...    0  -10.0       1\n",
      "7     0    0    1    0    0    1    0    0    0    0 ...    1  -10.0       1\n",
      "8     0    0    1    0    0    1    0    0    0    0 ...    1  -10.0       1\n",
      "9     0    0    0    1    0    0    1    0    0    0 ...    0  -10.0       1\n",
      "10    0    1    0    0    0    0    0    0    1    0 ...    1  -10.0       1\n",
      "11    0    0    0    1    0    0    1    0    0    0 ...    0  -10.0       1\n",
      "12    0    0    1    0    0    1    0    0    0    0 ...    0  -10.0       1\n",
      "13    0    1    0    0    0    0    0    0    0    1 ...    0  -10.0       1\n",
      "14    0    1    0    0    0    0    0    0    1    0 ...    1  -10.0       1\n",
      "15    0    0    0    1    0    0    1    0    0    0 ...    0  -10.0       1\n",
      "16    0    0    0    0    1    0    0    1    0    0 ...    0  -10.0       1\n",
      "17    0    0    1    0    0    1    0    0    0    0 ...    1  -10.0       1\n",
      "18    0    0    0    0    1    0    0    1    0    0 ...    0  -10.0       1\n",
      "19    0    0    1    0    0    1    0    0    0    0 ...    1  -10.0       1\n",
      "20    0    1    0    0    0    0    0    0    0    1 ...    0  -10.0       1\n",
      "21    0    1    0    0    0    0    0    0    1    0 ...    1  -10.0       1\n",
      "22    0    0    1    0    0    0    0    0    0    1 ...    0  -10.0       1\n",
      "23    0    0    1    0    0    0    0    0    0    1 ...    0  -10.0       1\n",
      "24    0    0    0    1    0    0    1    0    0    0 ...    0  -10.0       1\n",
      "25    0    0    1    0    0    0    0    0    0    1 ...    0  -10.0       1\n",
      "26    0    0    0    1    0    0    1    0    0    0 ...    0  -10.0       1\n",
      "27    0    1    0    0    0    0    0    0    0    1 ...    0  -10.0       1\n",
      "28    1    0    0    0    0    0    0    1    0    0 ...    0  -10.0       1\n",
      "29    0    0    0    1    0    0    1    0    0    0 ...    0  -10.0       1\n",
      "30    0    1    0    0    0    0    0    0    1    0 ...    1  -10.0       1\n",
      "31    1    0    0    0    0    0    0    1    0    0 ...    0  -10.0       1\n",
      "32    0    1    0    0    0    0    0    0    0    1 ...    0  -10.0       1\n",
      "33    0    0    1    0    0    1    0    0    0    0 ...    1  -10.0       1\n",
      "34    0    0    0    1    0    1    0    0    0    0 ...    0  -10.0       1\n",
      "35    1    0    0    0    0    0    0    0    1    0 ...    0  -10.0       1\n",
      "36    0    1    0    0    0    0    0    0    0    1 ...    0  -10.0       1\n",
      "37    0    0    1    0    0    0    0    0    0    1 ...    0  -10.0       1\n",
      "38    0    0    0    0    1    0    0    1    0    0 ...    0  -10.0       1\n",
      "39    1    0    0    0    0    0    0    1    0    0 ...    0  -10.0       1\n",
      "40    0    0    0    0    1    0    1    0    0    0 ...    0  -10.0       1\n",
      "41    0    0    1    0    0    1    0    0    0    0 ...    1  -10.0       1\n",
      "42    0    1    0    0    0    0    0    0    0    1 ...    0  -10.0       1\n",
      "43    0    0    1    0    0    0    0    0    0    1 ...    0  -10.0       1\n",
      "44    0    0    1    0    0    1    0    0    0    0 ...    0  -10.0       1\n",
      "45    0    1    0    0    0    0    0    0    0    1 ...    0  -10.0       1\n",
      "46    0    0    0    1    0    0    1    0    0    0 ...    0  -10.0       1\n",
      "47    0    1    0    0    0    0    0    0    1    0 ...    0  -10.0       1\n",
      "48    1    0    0    0    0    0    0    1    0    0 ...    0  -10.0       1\n",
      "49    0    0    1    0    0    0    0    0    0    1 ...    0  -10.0       1\n",
      "50    0    1    0    0    0    0    0    0    1    0 ...    1  -10.0       1\n",
      "51    1    0    0    0    0    0    0    0    1    0 ...    0  -10.0       1\n",
      "52    0    0    1    0    0    0    0    0    0    1 ...    0  -10.0       1\n",
      "53    1    0    0    0    0    0    0    0    1    0 ...    0  -10.0       1\n",
      "54    0    0    0    0    1    0    0    1    0    0 ...    0  -10.0       1\n",
      "55    1    0    0    0    0    0    0    1    0    0 ...    0  -10.0       1\n",
      "56    0    1    0    0    0    0    0    0    1    0 ...    1  -10.0       1\n",
      "57    1    0    0    0    0    0    0    0    1    0 ...    0  -10.0       1\n",
      "58    0    1    0    0    0    0    0    0    0    1 ...    0  -10.0       1\n",
      "59    1    0    0    0    0    0    0    1    0    0 ...    0  -10.0       1\n",
      "60    1    0    0    0    0    0    0    0    1    0 ...    0  -10.0       1\n",
      "61    0    0    0    1    0    1    0    0    0    0 ...    0  -10.0       1\n",
      "62    0    0    0    0    1    0    0    1    0    0 ...    0  -10.0       1\n",
      "63    1    0    0    0    0    0    0    1    0    0 ...    0  -10.0       1\n",
      "64    0    0    1    0    0    1    0    0    0    0 ...    0  -10.0       1\n",
      "65    1    0    0    0    0    0    0    1    0    0 ...    0  -10.0       1\n",
      "66    0    0    0    0    1    0    1    0    0    0 ...    0  -10.0       1\n",
      "67    0    1    0    0    0    0    0    0    0    1 ...    0  -10.0       1\n",
      "68    0    0    1    0    0    1    0    0    0    0 ...    0  -10.0       1\n",
      "69    0    0    0    0    1    0    0    1    0    0 ...    0  -10.0       1\n",
      "70    1    0    0    0    0    0    0    1    0    0 ...    0  -10.0       1\n",
      "71    0    1    0    0    0    0    0    0    0    1 ...    0  -10.0       1\n",
      "72    0    0    1    0    0    0    0    0    0    1 ...    0  -10.0       1\n",
      "73    0    1    0    0    0    0    0    0    0    1 ...    0  -10.0       1\n",
      "74    1    0    0    0    0    0    0    0    1    0 ...    0  -10.0       1\n",
      "75    1    0    0    0    0    0    0    1    0    0 ...    0  -10.0       1\n",
      "76    0    0    0    0    1    0    1    0    0    0 ...    0  -10.0       1\n",
      "77    1    0    0    0    0    0    0    1    0    0 ...    0  -10.0       1\n",
      "78    0    0    0    1    0    0    1    0    0    0 ...    0  -10.0       1\n",
      "79    0    1    0    0    0    0    0    0    1    0 ...    1  -10.0       1\n",
      "80    1    0    0    0    0    0    0    0    1    0 ...    0  -10.0       1\n",
      "81    0    0    1    0    0    0    0    0    0    1 ...    0  -10.0       1\n",
      "82    0    0    0    1    0    1    0    0    0    0 ...    0  -10.0       1\n",
      "83    0    1    0    0    0    0    0    0    0    1 ...    0  -10.0       1\n",
      "84    0    0    1    0    0    1    0    0    0    0 ...    0  -10.0       1\n",
      "85    0    0    0    0    1    0    1    0    0    0 ...    0  -10.0       1\n",
      "86    0    0    1    0    0    1    0    0    0    0 ...    1  -10.0       1\n",
      "87    0    0    1    0    0    1    0    0    0    0 ...    1  -10.0       1\n",
      "88    0    1    0    0    0    0    0    0    0    1 ...    0  -10.0       1\n",
      "89    1    0    0    0    0    0    0    0    1    0 ...    0  -10.0       1\n",
      "90    0    0    0    0    1    0    1    0    0    0 ...    0  -10.0       1\n",
      "91    0    0    0    0    1    0    0    1    0    0 ...    0  -10.0       1\n",
      "92    0    1    0    0    0    0    0    0    1    0 ...    1  -10.0       1\n",
      "93    0    1    0    0    0    0    0    0    1    0 ...    0  -10.0       1\n",
      "94    0    0    1    0    0    1    0    0    0    0 ...    1  -10.0       1\n",
      "95    0    0    0    0    1    0    1    0    0    0 ...    0  -10.0       1\n",
      "96    0    0    0    1    0    0    1    0    0    0 ...    0  -10.0       1\n",
      "97    0    0    0    0    1    0    0    1    0    0 ...    0  -10.0       1\n",
      "98    0    0    1    0    0    1    0    0    0    0 ...    1  -10.0       1\n",
      "99    0    0    1    0    0    0    0    0    0    1 ...    0  -10.0       1\n",
      "['BINARY', 100 rows, 100 samples, 25 variables]\n"
     ]
    }
   ],
   "source": [
    "# Create Sampler\n",
    "\n",
    "\"\"\"\n",
    "# Simulated sampling\n",
    "\n",
    "import neal\n",
    "sampler = neal.SimulatedAnnealingSampler()\n",
    "\n",
    "# Try Sampling\n",
    "sampleset = sampler.sample_qubo(Q, num_reads=20_000)\n",
    "# print(sampleset)\n",
    "\"\"\"\n",
    "\n",
    "# # Go to DWave\n",
    "# from dwave.system import LeapHybridSampler\n",
    "# LEAPsampler = LeapHybridSampler()\n",
    "\n",
    "# # Try Sampling\n",
    "# LEAPsampleset = LEAPsampler.sample_qubo(Q)\n",
    "# print(LEAPsampleset)\n",
    "\n",
    "import neal\n",
    "sampler = neal.SimulatedAnnealingSampler()\n",
    "sampleset = sampler.sample_qubo(Q_star, num_reads=100)\n",
    "#sampleset = LEAPsampleset\n",
    "minimum_theo = -2*N* nstars**2 * γ\n",
    "print('Theory:', minimum_theo)\n",
    "print(sampleset)"
   ]
  },
  {
   "cell_type": "code",
   "execution_count": 84,
   "metadata": {},
   "outputs": [],
   "source": [
    "\"\"\"Solution checks\"\"\"\n",
    "\n",
    "def region_criterion(sample, region: list, nstars: int):\n",
    "    '''Check if :sample: respects :region: criterion'''\n",
    "    region_sum = sum(sample[xs(i, j)] for (i, j) in region)\n",
    "    return region_sum == nstars\n",
    "    \n",
    "def proximity_criterion(sample):\n",
    "    star_positions = [inds(var) for var, value in sample.items() if value == 1]\n",
    "    bad_distances = {(0, 1), (1, 0), (1, 1)}\n",
    "    for (i, j), (i_, j_) in it.combinations(star_positions, 2):\n",
    "        dist = di, dj = abs(i - i_), abs(j - j_)\n",
    "        if dist in bad_distances:\n",
    "            return False\n",
    "    return True\n",
    "\n",
    "def confirm_solution(sample, regions, nstars):\n",
    "    '''Check if sample corresponds solves problem'''\n",
    "    for region in regions:\n",
    "        if not region_criterion(sample, region, nstars):\n",
    "            return False\n",
    "        \n",
    "    if not proximity_criterion(sample):\n",
    "        return False\n",
    "    \n",
    "    return True"
   ]
  },
  {
   "cell_type": "code",
   "execution_count": 102,
   "metadata": {},
   "outputs": [],
   "source": [
    "import matplotlib.pyplot as plt\n",
    "\n",
    "def draw_puzzle(grid, star):\n",
    "    fig, ax = plt.subplots()\n",
    "    mat = ax.imshow(grid, cmap='GnBu', interpolation='nearest')\n",
    "    for x in range(star.shape[0]):\n",
    "        for y in range(star.shape[1]):\n",
    "            if star[x,y] == 1:\n",
    "                ax.annotate(\"*\", xy=(y, x+0.5), horizontalalignment='center', verticalalignment='center',size=30)\n",
    "    plt.xticks([])\n",
    "    plt.yticks([])\n",
    "    plt.show()\n",
    "    \n",
    "def star_solutions(sample):\n",
    "    star_positions = [inds(var) for var, value in sample.items() if value == 1]\n",
    "    solution = np.zeros((N, N), dtype=int)\n",
    "    for (i, j) in star_positions:\n",
    "        solution[i, j] = 1\n",
    "    return star_positions, solution\n",
    "\n",
    "def grid_solutions(sample):\n",
    "    reg_colors = [ind(var) for var, value in sample.items() if value == 1]\n",
    "    solution = np.zeros((N, N), dtype=int)\n",
    "    for (i, j, c) in reg_colors:\n",
    "        solution[i, j] = c\n",
    "    return solution\n",
    "    \n",
    "def sample_to_plot(sample_star, sample_reg=None):\n",
    "    if sample_reg is None:\n",
    "        grid = np.zeros((N, N), dtype=int)\n",
    "    else:\n",
    "        grid = grid_solutions(sample_reg)\n",
    "    _, solution = star_solutions(sample_star)\n",
    "    draw_puzzle(grid, solution)"
   ]
  },
  {
   "cell_type": "code",
   "execution_count": 87,
   "metadata": {
    "scrolled": true
   },
   "outputs": [
    {
     "name": "stdout",
     "output_type": "stream",
     "text": [
      "Satisfies constraints: True\n",
      "Has lowest energy: True\n"
     ]
    },
    {
     "data": {
      "image/png": "[encoded data removed]",
      "text/plain": [
       "<Figure size 432x288 with 1 Axes>"
      ]
     },
     "metadata": {},
     "output_type": "display_data"
    },
    {
     "name": "stdout",
     "output_type": "stream",
     "text": [
      "Satisfies constraints: True\n",
      "Has lowest energy: True\n"
     ]
    },
    {
     "data": {
      "image/png": "[encoded data removed]",
      "text/plain": [
       "<Figure size 432x288 with 1 Axes>"
      ]
     },
     "metadata": {},
     "output_type": "display_data"
    },
    {
     "name": "stdout",
     "output_type": "stream",
     "text": [
      "Satisfies constraints: True\n",
      "Has lowest energy: True\n"
     ]
    },
    {
     "data": {
      "image/png": "[encoded data removed]",
      "text/plain": [
       "<Figure size 432x288 with 1 Axes>"
      ]
     },
     "metadata": {},
     "output_type": "display_data"
    },
    {
     "name": "stdout",
     "output_type": "stream",
     "text": [
      "Satisfies constraints: True\n",
      "Has lowest energy: True\n"
     ]
    },
    {
     "data": {
      "image/png": "[encoded data removed]",
      "text/plain": [
       "<Figure size 432x288 with 1 Axes>"
      ]
     },
     "metadata": {},
     "output_type": "display_data"
    },
    {
     "name": "stdout",
     "output_type": "stream",
     "text": [
      "Satisfies constraints: True\n",
      "Has lowest energy: True\n"
     ]
    },
    {
     "data": {
      "image/png": "[encoded data removed]",
      "text/plain": [
       "<Figure size 432x288 with 1 Axes>"
      ]
     },
     "metadata": {},
     "output_type": "display_data"
    },
    {
     "name": "stdout",
     "output_type": "stream",
     "text": [
      "Satisfies constraints: True\n",
      "Has lowest energy: True\n"
     ]
    },
    {
     "data": {
      "image/png": "[encoded data removed]",
      "text/plain": [
       "<Figure size 432x288 with 1 Axes>"
      ]
     },
     "metadata": {},
     "output_type": "display_data"
    },
    {
     "name": "stdout",
     "output_type": "stream",
     "text": [
      "Satisfies constraints: True\n",
      "Has lowest energy: True\n"
     ]
    },
    {
     "data": {
      "image/png": "[encoded data removed]",
      "text/plain": [
       "<Figure size 432x288 with 1 Axes>"
      ]
     },
     "metadata": {},
     "output_type": "display_data"
    },
    {
     "name": "stdout",
     "output_type": "stream",
     "text": [
      "Satisfies constraints: True\n",
      "Has lowest energy: True\n"
     ]
    },
    {
     "data": {
      "image/png": "[encoded data removed]",
      "text/plain": [
       "<Figure size 432x288 with 1 Axes>"
      ]
     },
     "metadata": {},
     "output_type": "display_data"
    },
    {
     "name": "stdout",
     "output_type": "stream",
     "text": [
      "Satisfies constraints: True\n",
      "Has lowest energy: True\n"
     ]
    },
    {
     "data": {
      "image/png": "[encoded data removed]",
      "text/plain": [
       "<Figure size 432x288 with 1 Axes>"
      ]
     },
     "metadata": {},
     "output_type": "display_data"
    },
    {
     "name": "stdout",
     "output_type": "stream",
     "text": [
      "Satisfies constraints: True\n",
      "Has lowest energy: True\n"
     ]
    },
    {
     "data": {
      "image/png": "[encoded data removed]",
      "text/plain": [
       "<Figure size 432x288 with 1 Axes>"
      ]
     },
     "metadata": {},
     "output_type": "display_data"
    },
    {
     "name": "stdout",
     "output_type": "stream",
     "text": [
      "Satisfies constraints: True\n",
      "Has lowest energy: True\n"
     ]
    },
    {
     "data": {
      "image/png": "[encoded data removed]",
      "text/plain": [
       "<Figure size 432x288 with 1 Axes>"
      ]
     },
     "metadata": {},
     "output_type": "display_data"
    },
    {
     "name": "stdout",
     "output_type": "stream",
     "text": [
      "Satisfies constraints: True\n",
      "Has lowest energy: True\n"
     ]
    },
    {
     "data": {
      "image/png": "[encoded data removed]",
      "text/plain": [
       "<Figure size 432x288 with 1 Axes>"
      ]
     },
     "metadata": {},
     "output_type": "display_data"
    },
    {
     "name": "stdout",
     "output_type": "stream",
     "text": [
      "Satisfies constraints: True\n",
      "Has lowest energy: True\n"
     ]
    },
    {
     "data": {
      "image/png": "[encoded data removed]",
      "text/plain": [
       "<Figure size 432x288 with 1 Axes>"
      ]
     },
     "metadata": {},
     "output_type": "display_data"
    },
    {
     "name": "stdout",
     "output_type": "stream",
     "text": [
      "Satisfies constraints: True\n",
      "Has lowest energy: True\n"
     ]
    },
    {
     "data": {
      "image/png": "[encoded data removed]",
      "text/plain": [
       "<Figure size 432x288 with 1 Axes>"
      ]
     },
     "metadata": {},
     "output_type": "display_data"
    },
    {
     "name": "stdout",
     "output_type": "stream",
     "text": [
      "Satisfies constraints: True\n",
      "Has lowest energy: True\n"
     ]
    },
    {
     "data": {
      "image/png": "[encoded data removed]",
      "text/plain": [
       "<Figure size 432x288 with 1 Axes>"
      ]
     },
     "metadata": {},
     "output_type": "display_data"
    },
    {
     "name": "stdout",
     "output_type": "stream",
     "text": [
      "Satisfies constraints: True\n",
      "Has lowest energy: True\n"
     ]
    },
    {
     "data": {
      "image/png": "[encoded data removed]",
      "text/plain": [
       "<Figure size 432x288 with 1 Axes>"
      ]
     },
     "metadata": {},
     "output_type": "display_data"
    },
    {
     "name": "stdout",
     "output_type": "stream",
     "text": [
      "Satisfies constraints: True\n",
      "Has lowest energy: True\n"
     ]
    },
    {
     "data": {
      "image/png": "[encoded data removed]",
      "text/plain": [
       "<Figure size 432x288 with 1 Axes>"
      ]
     },
     "metadata": {},
     "output_type": "display_data"
    },
    {
     "name": "stdout",
     "output_type": "stream",
     "text": [
      "Satisfies constraints: True\n",
      "Has lowest energy: True\n"
     ]
    },
    {
     "data": {
      "image/png": "[encoded data removed]",
      "text/plain": [
       "<Figure size 432x288 with 1 Axes>"
      ]
     },
     "metadata": {},
     "output_type": "display_data"
    },
    {
     "name": "stdout",
     "output_type": "stream",
     "text": [
      "Satisfies constraints: True\n",
      "Has lowest energy: True\n"
     ]
    },
    {
     "data": {
      "image/png": "[encoded data removed]",
      "text/plain": [
       "<Figure size 432x288 with 1 Axes>"
      ]
     },
     "metadata": {},
     "output_type": "display_data"
    },
    {
     "name": "stdout",
     "output_type": "stream",
     "text": [
      "Satisfies constraints: True\n",
      "Has lowest energy: True\n"
     ]
    },
    {
     "data": {
      "image/png": "[encoded data removed]",
      "text/plain": [
       "<Figure size 432x288 with 1 Axes>"
      ]
     },
     "metadata": {},
     "output_type": "display_data"
    },
    {
     "name": "stdout",
     "output_type": "stream",
     "text": [
      "Satisfies constraints: True\n",
      "Has lowest energy: True\n"
     ]
    },
    {
     "data": {
      "image/png": "[encoded data removed]",
      "text/plain": [
       "<Figure size 432x288 with 1 Axes>"
      ]
     },
     "metadata": {},
     "output_type": "display_data"
    },
    {
     "name": "stdout",
     "output_type": "stream",
     "text": [
      "Satisfies constraints: True\n",
      "Has lowest energy: True\n"
     ]
    },
    {
     "data": {
      "image/png": "[encoded data removed]",
      "text/plain": [
       "<Figure size 432x288 with 1 Axes>"
      ]
     },
     "metadata": {},
     "output_type": "display_data"
    },
    {
     "name": "stdout",
     "output_type": "stream",
     "text": [
      "Satisfies constraints: True\n",
      "Has lowest energy: True\n"
     ]
    },
    {
     "data": {
      "image/png": "[encoded data removed]",
      "text/plain": [
       "<Figure size 432x288 with 1 Axes>"
      ]
     },
     "metadata": {},
     "output_type": "display_data"
    },
    {
     "name": "stdout",
     "output_type": "stream",
     "text": [
      "Satisfies constraints: True\n",
      "Has lowest energy: True\n"
     ]
    },
    {
     "data": {
      "image/png": "[encoded data removed]",
      "text/plain": [
       "<Figure size 432x288 with 1 Axes>"
      ]
     },
     "metadata": {},
     "output_type": "display_data"
    },
    {
     "name": "stdout",
     "output_type": "stream",
     "text": [
      "Satisfies constraints: True\n",
      "Has lowest energy: True\n"
     ]
    },
    {
     "data": {
      "image/png": "[encoded data removed]",
      "text/plain": [
       "<Figure size 432x288 with 1 Axes>"
      ]
     },
     "metadata": {},
     "output_type": "display_data"
    },
    {
     "name": "stdout",
     "output_type": "stream",
     "text": [
      "Satisfies constraints: True\n",
      "Has lowest energy: True\n"
     ]
    },
    {
     "data": {
      "image/png": "[encoded data removed]",
      "text/plain": [
       "<Figure size 432x288 with 1 Axes>"
      ]
     },
     "metadata": {},
     "output_type": "display_data"
    },
    {
     "name": "stdout",
     "output_type": "stream",
     "text": [
      "Satisfies constraints: True\n",
      "Has lowest energy: True\n"
     ]
    },
    {
     "data": {
      "image/png": "[encoded data removed]",
      "text/plain": [
       "<Figure size 432x288 with 1 Axes>"
      ]
     },
     "metadata": {},
     "output_type": "display_data"
    },
    {
     "name": "stdout",
     "output_type": "stream",
     "text": [
      "Satisfies constraints: True\n",
      "Has lowest energy: True\n"
     ]
    },
    {
     "data": {
      "image/png": "[encoded data removed]",
      "text/plain": [
       "<Figure size 432x288 with 1 Axes>"
      ]
     },
     "metadata": {},
     "output_type": "display_data"
    },
    {
     "name": "stdout",
     "output_type": "stream",
     "text": [
      "Satisfies constraints: True\n",
      "Has lowest energy: True\n"
     ]
    },
    {
     "data": {
      "image/png": "[encoded data removed]",
      "text/plain": [
       "<Figure size 432x288 with 1 Axes>"
      ]
     },
     "metadata": {},
     "output_type": "display_data"
    },
    {
     "name": "stdout",
     "output_type": "stream",
     "text": [
      "Satisfies constraints: True\n",
      "Has lowest energy: True\n"
     ]
    },
    {
     "data": {
      "image/png": "[encoded data removed]",
      "text/plain": [
       "<Figure size 432x288 with 1 Axes>"
      ]
     },
     "metadata": {},
     "output_type": "display_data"
    },
    {
     "name": "stdout",
     "output_type": "stream",
     "text": [
      "Satisfies constraints: True\n",
      "Has lowest energy: True\n"
     ]
    },
    {
     "data": {
      "image/png": "[encoded data removed]",
      "text/plain": [
       "<Figure size 432x288 with 1 Axes>"
      ]
     },
     "metadata": {},
     "output_type": "display_data"
    },
    {
     "name": "stdout",
     "output_type": "stream",
     "text": [
      "Satisfies constraints: True\n",
      "Has lowest energy: True\n"
     ]
    },
    {
     "data": {
      "image/png": "[encoded data removed]",
      "text/plain": [
       "<Figure size 432x288 with 1 Axes>"
      ]
     },
     "metadata": {},
     "output_type": "display_data"
    },
    {
     "name": "stdout",
     "output_type": "stream",
     "text": [
      "Satisfies constraints: True\n",
      "Has lowest energy: True\n"
     ]
    },
    {
     "data": {
      "image/png": "[encoded data removed]",
      "text/plain": [
       "<Figure size 432x288 with 1 Axes>"
      ]
     },
     "metadata": {},
     "output_type": "display_data"
    },
    {
     "name": "stdout",
     "output_type": "stream",
     "text": [
      "Satisfies constraints: True\n",
      "Has lowest energy: True\n"
     ]
    },
    {
     "data": {
      "image/png": "[encoded data removed]",
      "text/plain": [
       "<Figure size 432x288 with 1 Axes>"
      ]
     },
     "metadata": {},
     "output_type": "display_data"
    },
    {
     "name": "stdout",
     "output_type": "stream",
     "text": [
      "Satisfies constraints: True\n",
      "Has lowest energy: True\n"
     ]
    },
    {
     "data": {
      "image/png": "[encoded data removed]",
      "text/plain": [
       "<Figure size 432x288 with 1 Axes>"
      ]
     },
     "metadata": {},
     "output_type": "display_data"
    },
    {
     "name": "stdout",
     "output_type": "stream",
     "text": [
      "Satisfies constraints: True\n",
      "Has lowest energy: True\n"
     ]
    },
    {
     "data": {
      "image/png": "[encoded data removed]",
      "text/plain": [
       "<Figure size 432x288 with 1 Axes>"
      ]
     },
     "metadata": {},
     "output_type": "display_data"
    },
    {
     "name": "stdout",
     "output_type": "stream",
     "text": [
      "Satisfies constraints: True\n",
      "Has lowest energy: True\n"
     ]
    },
    {
     "data": {
      "image/png": "[encoded data removed]",
      "text/plain": [
       "<Figure size 432x288 with 1 Axes>"
      ]
     },
     "metadata": {},
     "output_type": "display_data"
    },
    {
     "name": "stdout",
     "output_type": "stream",
     "text": [
      "Satisfies constraints: True\n",
      "Has lowest energy: True\n"
     ]
    },
    {
     "data": {
      "image/png": "[encoded data removed]",
      "text/plain": [
       "<Figure size 432x288 with 1 Axes>"
      ]
     },
     "metadata": {},
     "output_type": "display_data"
    },
    {
     "name": "stdout",
     "output_type": "stream",
     "text": [
      "Satisfies constraints: True\n",
      "Has lowest energy: True\n"
     ]
    },
    {
     "data": {
      "image/png": "[encoded data removed]",
      "text/plain": [
       "<Figure size 432x288 with 1 Axes>"
      ]
     },
     "metadata": {},
     "output_type": "display_data"
    },
    {
     "name": "stdout",
     "output_type": "stream",
     "text": [
      "Satisfies constraints: True\n",
      "Has lowest energy: True\n"
     ]
    },
    {
     "data": {
      "image/png": "[encoded data removed]",
      "text/plain": [
       "<Figure size 432x288 with 1 Axes>"
      ]
     },
     "metadata": {},
     "output_type": "display_data"
    },
    {
     "name": "stdout",
     "output_type": "stream",
     "text": [
      "Satisfies constraints: True\n",
      "Has lowest energy: True\n"
     ]
    },
    {
     "data": {
      "image/png": "[encoded data removed]",
      "text/plain": [
       "<Figure size 432x288 with 1 Axes>"
      ]
     },
     "metadata": {},
     "output_type": "display_data"
    },
    {
     "name": "stdout",
     "output_type": "stream",
     "text": [
      "Satisfies constraints: True\n",
      "Has lowest energy: True\n"
     ]
    },
    {
     "data": {
      "image/png": "[encoded data removed]",
      "text/plain": [
       "<Figure size 432x288 with 1 Axes>"
      ]
     },
     "metadata": {},
     "output_type": "display_data"
    },
    {
     "name": "stdout",
     "output_type": "stream",
     "text": [
      "Satisfies constraints: True\n",
      "Has lowest energy: True\n"
     ]
    },
    {
     "data": {
      "image/png": "[encoded data removed]",
      "text/plain": [
       "<Figure size 432x288 with 1 Axes>"
      ]
     },
     "metadata": {},
     "output_type": "display_data"
    },
    {
     "name": "stdout",
     "output_type": "stream",
     "text": [
      "Satisfies constraints: True\n",
      "Has lowest energy: True\n"
     ]
    },
    {
     "data": {
      "image/png": "[encoded data removed]",
      "text/plain": [
       "<Figure size 432x288 with 1 Axes>"
      ]
     },
     "metadata": {},
     "output_type": "display_data"
    },
    {
     "name": "stdout",
     "output_type": "stream",
     "text": [
      "Satisfies constraints: True\n",
      "Has lowest energy: True\n"
     ]
    },
    {
     "data": {
      "image/png": "[encoded data removed]",
      "text/plain": [
       "<Figure size 432x288 with 1 Axes>"
      ]
     },
     "metadata": {},
     "output_type": "display_data"
    },
    {
     "name": "stdout",
     "output_type": "stream",
     "text": [
      "Satisfies constraints: True\n",
      "Has lowest energy: True\n"
     ]
    },
    {
     "data": {
      "image/png": "[encoded data removed]",
      "text/plain": [
       "<Figure size 432x288 with 1 Axes>"
      ]
     },
     "metadata": {},
     "output_type": "display_data"
    },
    {
     "name": "stdout",
     "output_type": "stream",
     "text": [
      "Satisfies constraints: True\n",
      "Has lowest energy: True\n"
     ]
    },
    {
     "data": {
      "image/png": "[encoded data removed]",
      "text/plain": [
       "<Figure size 432x288 with 1 Axes>"
      ]
     },
     "metadata": {},
     "output_type": "display_data"
    },
    {
     "name": "stdout",
     "output_type": "stream",
     "text": [
      "Satisfies constraints: True\n",
      "Has lowest energy: True\n"
     ]
    },
    {
     "data": {
      "image/png": "[encoded data removed]",
      "text/plain": [
       "<Figure size 432x288 with 1 Axes>"
      ]
     },
     "metadata": {},
     "output_type": "display_data"
    },
    {
     "name": "stdout",
     "output_type": "stream",
     "text": [
      "Satisfies constraints: True\n",
      "Has lowest energy: True\n"
     ]
    },
    {
     "data": {
      "image/png": "[encoded data removed]",
      "text/plain": [
       "<Figure size 432x288 with 1 Axes>"
      ]
     },
     "metadata": {},
     "output_type": "display_data"
    },
    {
     "name": "stdout",
     "output_type": "stream",
     "text": [
      "Satisfies constraints: True\n",
      "Has lowest energy: True\n"
     ]
    },
    {
     "data": {
      "image/png": "[encoded data removed]",
      "text/plain": [
       "<Figure size 432x288 with 1 Axes>"
      ]
     },
     "metadata": {},
     "output_type": "display_data"
    },
    {
     "name": "stdout",
     "output_type": "stream",
     "text": [
      "Satisfies constraints: True\n",
      "Has lowest energy: True\n"
     ]
    },
    {
     "data": {
      "image/png": "[encoded data removed]",
      "text/plain": [
       "<Figure size 432x288 with 1 Axes>"
      ]
     },
     "metadata": {},
     "output_type": "display_data"
    },
    {
     "name": "stdout",
     "output_type": "stream",
     "text": [
      "Satisfies constraints: True\n",
      "Has lowest energy: True\n"
     ]
    },
    {
     "data": {
      "image/png": "[encoded data removed]",
      "text/plain": [
       "<Figure size 432x288 with 1 Axes>"
      ]
     },
     "metadata": {},
     "output_type": "display_data"
    },
    {
     "name": "stdout",
     "output_type": "stream",
     "text": [
      "Satisfies constraints: True\n",
      "Has lowest energy: True\n"
     ]
    },
    {
     "data": {
      "image/png": "[encoded data removed]",
      "text/plain": [
       "<Figure size 432x288 with 1 Axes>"
      ]
     },
     "metadata": {},
     "output_type": "display_data"
    },
    {
     "name": "stdout",
     "output_type": "stream",
     "text": [
      "Satisfies constraints: True\n",
      "Has lowest energy: True\n"
     ]
    },
    {
     "data": {
      "image/png": "[encoded data removed]",
      "text/plain": [
       "<Figure size 432x288 with 1 Axes>"
      ]
     },
     "metadata": {},
     "output_type": "display_data"
    },
    {
     "name": "stdout",
     "output_type": "stream",
     "text": [
      "Satisfies constraints: True\n",
      "Has lowest energy: True\n"
     ]
    },
    {
     "data": {
      "image/png": "[encoded data removed]",
      "text/plain": [
       "<Figure size 432x288 with 1 Axes>"
      ]
     },
     "metadata": {},
     "output_type": "display_data"
    },
    {
     "name": "stdout",
     "output_type": "stream",
     "text": [
      "Satisfies constraints: True\n",
      "Has lowest energy: True\n"
     ]
    },
    {
     "data": {
      "image/png": "[encoded data removed]",
      "text/plain": [
       "<Figure size 432x288 with 1 Axes>"
      ]
     },
     "metadata": {},
     "output_type": "display_data"
    },
    {
     "name": "stdout",
     "output_type": "stream",
     "text": [
      "Satisfies constraints: True\n",
      "Has lowest energy: True\n"
     ]
    },
    {
     "data": {
      "image/png": "[encoded data removed]",
      "text/plain": [
       "<Figure size 432x288 with 1 Axes>"
      ]
     },
     "metadata": {},
     "output_type": "display_data"
    },
    {
     "name": "stdout",
     "output_type": "stream",
     "text": [
      "Satisfies constraints: True\n",
      "Has lowest energy: True\n"
     ]
    },
    {
     "data": {
      "image/png": "[encoded data removed]",
      "text/plain": [
       "<Figure size 432x288 with 1 Axes>"
      ]
     },
     "metadata": {},
     "output_type": "display_data"
    },
    {
     "name": "stdout",
     "output_type": "stream",
     "text": [
      "Satisfies constraints: True\n",
      "Has lowest energy: True\n"
     ]
    },
    {
     "data": {
      "image/png": "[encoded data removed]",
      "text/plain": [
       "<Figure size 432x288 with 1 Axes>"
      ]
     },
     "metadata": {},
     "output_type": "display_data"
    },
    {
     "name": "stdout",
     "output_type": "stream",
     "text": [
      "Satisfies constraints: True\n",
      "Has lowest energy: True\n"
     ]
    },
    {
     "data": {
      "image/png": "[encoded data removed]",
      "text/plain": [
       "<Figure size 432x288 with 1 Axes>"
      ]
     },
     "metadata": {},
     "output_type": "display_data"
    },
    {
     "name": "stdout",
     "output_type": "stream",
     "text": [
      "Satisfies constraints: True\n",
      "Has lowest energy: True\n"
     ]
    },
    {
     "data": {
      "image/png": "[encoded data removed]",
      "text/plain": [
       "<Figure size 432x288 with 1 Axes>"
      ]
     },
     "metadata": {},
     "output_type": "display_data"
    },
    {
     "name": "stdout",
     "output_type": "stream",
     "text": [
      "Satisfies constraints: True\n",
      "Has lowest energy: True\n"
     ]
    },
    {
     "data": {
      "image/png": "[encoded data removed]",
      "text/plain": [
       "<Figure size 432x288 with 1 Axes>"
      ]
     },
     "metadata": {},
     "output_type": "display_data"
    },
    {
     "name": "stdout",
     "output_type": "stream",
     "text": [
      "Satisfies constraints: True\n",
      "Has lowest energy: True\n"
     ]
    },
    {
     "data": {
      "image/png": "[encoded data removed]",
      "text/plain": [
       "<Figure size 432x288 with 1 Axes>"
      ]
     },
     "metadata": {},
     "output_type": "display_data"
    },
    {
     "name": "stdout",
     "output_type": "stream",
     "text": [
      "Satisfies constraints: True\n",
      "Has lowest energy: True\n"
     ]
    },
    {
     "data": {
      "image/png": "[encoded data removed]",
      "text/plain": [
       "<Figure size 432x288 with 1 Axes>"
      ]
     },
     "metadata": {},
     "output_type": "display_data"
    },
    {
     "name": "stdout",
     "output_type": "stream",
     "text": [
      "Satisfies constraints: True\n",
      "Has lowest energy: True\n"
     ]
    },
    {
     "data": {
      "image/png": "[encoded data removed]",
      "text/plain": [
       "<Figure size 432x288 with 1 Axes>"
      ]
     },
     "metadata": {},
     "output_type": "display_data"
    },
    {
     "name": "stdout",
     "output_type": "stream",
     "text": [
      "Satisfies constraints: True\n",
      "Has lowest energy: True\n"
     ]
    },
    {
     "data": {
      "image/png": "[encoded data removed]",
      "text/plain": [
       "<Figure size 432x288 with 1 Axes>"
      ]
     },
     "metadata": {},
     "output_type": "display_data"
    },
    {
     "name": "stdout",
     "output_type": "stream",
     "text": [
      "Satisfies constraints: True\n",
      "Has lowest energy: True\n"
     ]
    },
    {
     "data": {
      "image/png": "[encoded data removed]",
      "text/plain": [
       "<Figure size 432x288 with 1 Axes>"
      ]
     },
     "metadata": {},
     "output_type": "display_data"
    },
    {
     "name": "stdout",
     "output_type": "stream",
     "text": [
      "Satisfies constraints: True\n",
      "Has lowest energy: True\n"
     ]
    },
    {
     "data": {
      "image/png": "[encoded data removed]",
      "text/plain": [
       "<Figure size 432x288 with 1 Axes>"
      ]
     },
     "metadata": {},
     "output_type": "display_data"
    },
    {
     "name": "stdout",
     "output_type": "stream",
     "text": [
      "Satisfies constraints: True\n",
      "Has lowest energy: True\n"
     ]
    },
    {
     "data": {
      "image/png": "[encoded data removed]",
      "text/plain": [
       "<Figure size 432x288 with 1 Axes>"
      ]
     },
     "metadata": {},
     "output_type": "display_data"
    },
    {
     "name": "stdout",
     "output_type": "stream",
     "text": [
      "Satisfies constraints: True\n",
      "Has lowest energy: True\n"
     ]
    },
    {
     "data": {
      "image/png": "[encoded data removed]",
      "text/plain": [
       "<Figure size 432x288 with 1 Axes>"
      ]
     },
     "metadata": {},
     "output_type": "display_data"
    },
    {
     "name": "stdout",
     "output_type": "stream",
     "text": [
      "Satisfies constraints: True\n",
      "Has lowest energy: True\n"
     ]
    },
    {
     "data": {
      "image/png": "[encoded data removed]",
      "text/plain": [
       "<Figure size 432x288 with 1 Axes>"
      ]
     },
     "metadata": {},
     "output_type": "display_data"
    },
    {
     "name": "stdout",
     "output_type": "stream",
     "text": [
      "Satisfies constraints: True\n",
      "Has lowest energy: True\n"
     ]
    },
    {
     "data": {
      "image/png": "[encoded data removed]",
      "text/plain": [
       "<Figure size 432x288 with 1 Axes>"
      ]
     },
     "metadata": {},
     "output_type": "display_data"
    },
    {
     "name": "stdout",
     "output_type": "stream",
     "text": [
      "Satisfies constraints: True\n",
      "Has lowest energy: True\n"
     ]
    },
    {
     "data": {
      "image/png": "[encoded data removed]",
      "text/plain": [
       "<Figure size 432x288 with 1 Axes>"
      ]
     },
     "metadata": {},
     "output_type": "display_data"
    },
    {
     "name": "stdout",
     "output_type": "stream",
     "text": [
      "Satisfies constraints: True\n",
      "Has lowest energy: True\n"
     ]
    },
    {
     "data": {
      "image/png": "[encoded data removed]",
      "text/plain": [
       "<Figure size 432x288 with 1 Axes>"
      ]
     },
     "metadata": {},
     "output_type": "display_data"
    },
    {
     "name": "stdout",
     "output_type": "stream",
     "text": [
      "Satisfies constraints: True\n",
      "Has lowest energy: True\n"
     ]
    },
    {
     "data": {
      "image/png": "[encoded data removed]",
      "text/plain": [
       "<Figure size 432x288 with 1 Axes>"
      ]
     },
     "metadata": {},
     "output_type": "display_data"
    },
    {
     "name": "stdout",
     "output_type": "stream",
     "text": [
      "Satisfies constraints: True\n",
      "Has lowest energy: True\n"
     ]
    },
    {
     "data": {
      "image/png": "[encoded data removed]",
      "text/plain": [
       "<Figure size 432x288 with 1 Axes>"
      ]
     },
     "metadata": {},
     "output_type": "display_data"
    },
    {
     "name": "stdout",
     "output_type": "stream",
     "text": [
      "Satisfies constraints: True\n",
      "Has lowest energy: True\n"
     ]
    },
    {
     "data": {
      "image/png": "[encoded data removed]",
      "text/plain": [
       "<Figure size 432x288 with 1 Axes>"
      ]
     },
     "metadata": {},
     "output_type": "display_data"
    },
    {
     "name": "stdout",
     "output_type": "stream",
     "text": [
      "Satisfies constraints: True\n",
      "Has lowest energy: True\n"
     ]
    },
    {
     "data": {
      "image/png": "[encoded data removed]",
      "text/plain": [
       "<Figure size 432x288 with 1 Axes>"
      ]
     },
     "metadata": {},
     "output_type": "display_data"
    },
    {
     "name": "stdout",
     "output_type": "stream",
     "text": [
      "Satisfies constraints: True\n",
      "Has lowest energy: True\n"
     ]
    },
    {
     "data": {
      "image/png": "[encoded data removed]",
      "text/plain": [
       "<Figure size 432x288 with 1 Axes>"
      ]
     },
     "metadata": {},
     "output_type": "display_data"
    },
    {
     "name": "stdout",
     "output_type": "stream",
     "text": [
      "Satisfies constraints: True\n",
      "Has lowest energy: True\n"
     ]
    },
    {
     "data": {
      "image/png": "[encoded data removed]",
      "text/plain": [
       "<Figure size 432x288 with 1 Axes>"
      ]
     },
     "metadata": {},
     "output_type": "display_data"
    },
    {
     "name": "stdout",
     "output_type": "stream",
     "text": [
      "Satisfies constraints: True\n",
      "Has lowest energy: True\n"
     ]
    },
    {
     "data": {
      "image/png": "[encoded data removed]",
      "text/plain": [
       "<Figure size 432x288 with 1 Axes>"
      ]
     },
     "metadata": {},
     "output_type": "display_data"
    },
    {
     "name": "stdout",
     "output_type": "stream",
     "text": [
      "Satisfies constraints: True\n",
      "Has lowest energy: True\n"
     ]
    },
    {
     "data": {
      "image/png": "[encoded data removed]",
      "text/plain": [
       "<Figure size 432x288 with 1 Axes>"
      ]
     },
     "metadata": {},
     "output_type": "display_data"
    },
    {
     "name": "stdout",
     "output_type": "stream",
     "text": [
      "Satisfies constraints: True\n",
      "Has lowest energy: True\n"
     ]
    },
    {
     "data": {
      "image/png": "[encoded data removed]",
      "text/plain": [
       "<Figure size 432x288 with 1 Axes>"
      ]
     },
     "metadata": {},
     "output_type": "display_data"
    },
    {
     "name": "stdout",
     "output_type": "stream",
     "text": [
      "Satisfies constraints: True\n",
      "Has lowest energy: True\n"
     ]
    },
    {
     "data": {
      "image/png": "[encoded data removed]",
      "text/plain": [
       "<Figure size 432x288 with 1 Axes>"
      ]
     },
     "metadata": {},
     "output_type": "display_data"
    },
    {
     "name": "stdout",
     "output_type": "stream",
     "text": [
      "Satisfies constraints: True\n",
      "Has lowest energy: True\n"
     ]
    },
    {
     "data": {
      "image/png": "[encoded data removed]",
      "text/plain": [
       "<Figure size 432x288 with 1 Axes>"
      ]
     },
     "metadata": {},
     "output_type": "display_data"
    },
    {
     "name": "stdout",
     "output_type": "stream",
     "text": [
      "Satisfies constraints: True\n",
      "Has lowest energy: True\n"
     ]
    },
    {
     "data": {
      "image/png": "[encoded data removed]",
      "text/plain": [
       "<Figure size 432x288 with 1 Axes>"
      ]
     },
     "metadata": {},
     "output_type": "display_data"
    },
    {
     "name": "stdout",
     "output_type": "stream",
     "text": [
      "Satisfies constraints: True\n",
      "Has lowest energy: True\n"
     ]
    },
    {
     "data": {
      "image/png": "[encoded data removed]",
      "text/plain": [
       "<Figure size 432x288 with 1 Axes>"
      ]
     },
     "metadata": {},
     "output_type": "display_data"
    },
    {
     "name": "stdout",
     "output_type": "stream",
     "text": [
      "Satisfies constraints: True\n",
      "Has lowest energy: True\n"
     ]
    },
    {
     "data": {
      "image/png": "[encoded data removed]",
      "text/plain": [
       "<Figure size 432x288 with 1 Axes>"
      ]
     },
     "metadata": {},
     "output_type": "display_data"
    },
    {
     "name": "stdout",
     "output_type": "stream",
     "text": [
      "Satisfies constraints: True\n",
      "Has lowest energy: True\n"
     ]
    },
    {
     "data": {
      "image/png": "[encoded data removed]",
      "text/plain": [
       "<Figure size 432x288 with 1 Axes>"
      ]
     },
     "metadata": {},
     "output_type": "display_data"
    },
    {
     "name": "stdout",
     "output_type": "stream",
     "text": [
      "Satisfies constraints: True\n",
      "Has lowest energy: True\n"
     ]
    },
    {
     "data": {
      "image/png": "[encoded data removed]",
      "text/plain": [
       "<Figure size 432x288 with 1 Axes>"
      ]
     },
     "metadata": {},
     "output_type": "display_data"
    },
    {
     "name": "stdout",
     "output_type": "stream",
     "text": [
      "Satisfies constraints: True\n",
      "Has lowest energy: True\n"
     ]
    },
    {
     "data": {
      "image/png": "[encoded data removed]",
      "text/plain": [
       "<Figure size 432x288 with 1 Axes>"
      ]
     },
     "metadata": {},
     "output_type": "display_data"
    },
    {
     "name": "stdout",
     "output_type": "stream",
     "text": [
      "Satisfies constraints: True\n",
      "Has lowest energy: True\n"
     ]
    },
    {
     "data": {
      "image/png": "[encoded data removed]",
      "text/plain": [
       "<Figure size 432x288 with 1 Axes>"
      ]
     },
     "metadata": {},
     "output_type": "display_data"
    },
    {
     "name": "stdout",
     "output_type": "stream",
     "text": [
      "Satisfies constraints: True\n",
      "Has lowest energy: True\n"
     ]
    },
    {
     "data": {
      "image/png": "[encoded data removed]",
      "text/plain": [
       "<Figure size 432x288 with 1 Axes>"
      ]
     },
     "metadata": {},
     "output_type": "display_data"
    },
    {
     "name": "stdout",
     "output_type": "stream",
     "text": [
      "Satisfies constraints: True\n",
      "Has lowest energy: True\n"
     ]
    },
    {
     "data": {
      "image/png": "[encoded data removed]",
      "text/plain": [
       "<Figure size 432x288 with 1 Axes>"
      ]
     },
     "metadata": {},
     "output_type": "display_data"
    },
    {
     "name": "stdout",
     "output_type": "stream",
     "text": [
      "Satisfies constraints: True\n",
      "Has lowest energy: True\n"
     ]
    },
    {
     "data": {
      "image/png": "[encoded data removed]",
      "text/plain": [
       "<Figure size 432x288 with 1 Axes>"
      ]
     },
     "metadata": {},
     "output_type": "display_data"
    },
    {
     "name": "stdout",
     "output_type": "stream",
     "text": [
      "Satisfies constraints: True\n",
      "Has lowest energy: True\n"
     ]
    },
    {
     "data": {
      "image/png": "[encoded data removed]",
      "text/plain": [
       "<Figure size 432x288 with 1 Axes>"
      ]
     },
     "metadata": {},
     "output_type": "display_data"
    },
    {
     "name": "stdout",
     "output_type": "stream",
     "text": [
      "Satisfies constraints: True\n",
      "Has lowest energy: True\n"
     ]
    },
    {
     "data": {
      "image/png": "[encoded data removed]",
      "text/plain": [
       "<Figure size 432x288 with 1 Axes>"
      ]
     },
     "metadata": {},
     "output_type": "display_data"
    },
    {
     "name": "stdout",
     "output_type": "stream",
     "text": [
      "Satisfies constraints: True\n",
      "Has lowest energy: True\n"
     ]
    },
    {
     "data": {
      "image/png": "[encoded data removed]",
      "text/plain": [
       "<Figure size 432x288 with 1 Axes>"
      ]
     },
     "metadata": {},
     "output_type": "display_data"
    },
    {
     "name": "stdout",
     "output_type": "stream",
     "text": [
      "Satisfies constraints: True\n",
      "Has lowest energy: True\n"
     ]
    },
    {
     "data": {
      "image/png": "[encoded data removed]",
      "text/plain": [
       "<Figure size 432x288 with 1 Axes>"
      ]
     },
     "metadata": {},
     "output_type": "display_data"
    },
    {
     "name": "stdout",
     "output_type": "stream",
     "text": [
      "Satisfies constraints: True\n",
      "Has lowest energy: True\n"
     ]
    },
    {
     "data": {
      "image/png": "[encoded data removed]",
      "text/plain": [
       "<Figure size 432x288 with 1 Axes>"
      ]
     },
     "metadata": {},
     "output_type": "display_data"
    }
   ],
   "source": [
    "# sampleset = LEAPsampleset\n",
    "sorted_records = sorted(sampleset.record, key=lambda r: r.energy)\n",
    "variables = sampleset.variables\n",
    "for record in sorted_records:\n",
    "    sample = {x_ij: value for x_ij, value in zip(variables, record.sample)}\n",
    "    energy = record.energy\n",
    "    # if energy < -402:\n",
    "    cond_1 = confirm_solution(sample, regions, nstars)\n",
    "    cond_2 = abs(energy-minimum_theo) < 1e-6\n",
    "    print('Satisfies constraints:', cond_1)\n",
    "    print('Has lowest energy:', cond_2)\n",
    "    sample_to_plot(sample)\n",
    "    if not cond_1 | cond_2:\n",
    "        break"
   ]
  },
  {
   "cell_type": "code",
   "execution_count": 86,
   "metadata": {},
   "outputs": [],
   "source": [
    "def get_star_positions(sampleset, n):\n",
    "    sorted_records = sorted(sampleset.record, key=lambda r: r.energy)\n",
    "    variables = sampleset.variables\n",
    "    record = sorted_records[n]\n",
    "    sample = {x_ij: value for x_ij, value in zip(variables, record.sample)}\n",
    "    energy = record.energy\n",
    "    cond_1 = confirm_solution(sample, regions, nstars)\n",
    "    cond_2 = abs(energy-minimum_theo) < 1e-6\n",
    "    print('Satisfies constraints:', cond_1)\n",
    "    print('Has lowest energy:', cond_2)\n",
    "    stars, solution = star_solutions(sample)\n",
    "    return stars"
   ]
  },
  {
   "cell_type": "code",
   "execution_count": 88,
   "metadata": {},
   "outputs": [
    {
     "name": "stdout",
     "output_type": "stream",
     "text": [
      "Satisfies constraints: True\n",
      "Has lowest energy: True\n"
     ]
    }
   ],
   "source": [
    "star_positions, solution = get_star_positions(sampleset, 0)"
   ]
  },
  {
   "cell_type": "code",
   "execution_count": 96,
   "metadata": {},
   "outputs": [],
   "source": [
    "# Build Star Finder QUBO\n",
    "g1, g2, g3 = 1, 1, 1\n",
    "Q_reg_1 = g1*constraint_sum_of_stars(N, nstars, star_positions)\n",
    "Q_reg_2 = g2*constraint_unique_color(N)\n",
    "Q_reg_3 = g3*constraint_contiguous(N)\n",
    "Q_reg = Q_reg_1+Q_reg_2+Q_reg_3"
   ]
  },
  {
   "cell_type": "code",
   "execution_count": 100,
   "metadata": {},
   "outputs": [
    {
     "name": "stdout",
     "output_type": "stream",
     "text": [
      "Theory: -30\n",
      "   x0_0_0 x0_0_1 x0_0_2 x0_0_3 x0_0_4 x0_1_0 x0_1_1 ... x4_4_4 energy num_oc.\n",
      "0       1      0      0      0      0      0      0 ...      1  -60.0       1\n",
      "1       1      0      0      0      0      0      0 ...      0  -60.0       1\n",
      "2       1      0      0      0      0      0      0 ...      0  -60.0       1\n",
      "3       1      0      0      0      0      0      1 ...      1  -60.0       1\n",
      "4       1      0      0      0      0      0      0 ...      0  -60.0       1\n",
      "5       1      0      0      0      0      0      0 ...      0  -60.0       1\n",
      "6       1      0      0      0      0      0      0 ...      0  -60.0       1\n",
      "7       1      0      0      0      0      0      1 ...      0  -60.0       1\n",
      "8       1      0      0      0      0      0      0 ...      0  -60.0       1\n",
      "9       1      0      0      0      0      0      1 ...      0  -60.0       1\n",
      "10      1      0      0      0      0      0      0 ...      0  -60.0       1\n",
      "11      1      0      0      0      0      0      1 ...      0  -60.0       1\n",
      "12      1      0      0      0      0      0      0 ...      0  -60.0       1\n",
      "13      1      0      0      0      0      0      1 ...      0  -60.0       1\n",
      "14      1      0      0      0      0      0      0 ...      0  -60.0       1\n",
      "15      1      0      0      0      0      0      0 ...      1  -60.0       1\n",
      "16      1      0      0      0      0      0      0 ...      0  -60.0       1\n",
      "17      1      0      0      0      0      0      0 ...      1  -60.0       1\n",
      "18      1      0      0      0      0      0      0 ...      0  -60.0       1\n",
      "19      1      0      0      0      0      0      0 ...      0  -60.0       1\n",
      "20      1      0      0      0      0      0      0 ...      0  -60.0       1\n",
      "21      1      0      0      0      0      0      1 ...      0  -60.0       1\n",
      "22      1      0      0      0      0      0      0 ...      0  -60.0       1\n",
      "23      1      0      0      0      0      0      1 ...      1  -60.0       1\n",
      "24      1      0      0      0      0      0      0 ...      0  -60.0       1\n",
      "25      1      0      0      0      0      0      1 ...      1  -60.0       1\n",
      "26      1      0      0      0      0      0      0 ...      0  -60.0       1\n",
      "27      1      0      0      0      0      0      1 ...      0  -60.0       1\n",
      "28      1      0      0      0      0      0      1 ...      0  -60.0       1\n",
      "29      1      0      0      0      0      0      0 ...      0  -60.0       1\n",
      "30      1      0      0      0      0      0      0 ...      1  -60.0       1\n",
      "31      1      0      0      0      0      0      1 ...      1  -60.0       1\n",
      "32      1      0      0      0      0      0      0 ...      1  -60.0       1\n",
      "33      1      0      0      0      0      0      0 ...      0  -60.0       1\n",
      "34      1      0      0      0      0      0      1 ...      1  -60.0       1\n",
      "35      1      0      0      0      0      0      0 ...      0  -60.0       1\n",
      "36      1      0      0      0      0      0      0 ...      1  -60.0       1\n",
      "37      1      0      0      0      0      0      0 ...      0  -60.0       1\n",
      "38      1      0      0      0      0      0      0 ...      1  -60.0       1\n",
      "39      1      0      0      0      0      0      1 ...      1  -60.0       1\n",
      "40      1      0      0      0      0      0      0 ...      0  -60.0       1\n",
      "41      1      0      0      0      0      0      0 ...      0  -60.0       1\n",
      "42      1      0      0      0      0      0      0 ...      1  -60.0       1\n",
      "43      1      0      0      0      0      0      1 ...      0  -60.0       1\n",
      "44      1      0      0      0      0      0      0 ...      0  -60.0       1\n",
      "45      1      0      0      0      0      0      0 ...      1  -60.0       1\n",
      "46      1      0      0      0      0      0      1 ...      1  -60.0       1\n",
      "47      1      0      0      0      0      0      0 ...      0  -60.0       1\n",
      "48      1      0      0      0      0      0      0 ...      0  -60.0       1\n",
      "49      1      0      0      0      0      0      1 ...      0  -60.0       1\n",
      "50      1      0      0      0      0      0      0 ...      0  -60.0       1\n",
      "51      1      0      0      0      0      0      0 ...      0  -60.0       1\n",
      "52      1      0      0      0      0      0      0 ...      1  -60.0       1\n",
      "53      1      0      0      0      0      0      0 ...      0  -60.0       1\n",
      "54      1      0      0      0      0      0      1 ...      1  -60.0       1\n",
      "55      1      0      0      0      0      0      0 ...      0  -60.0       1\n",
      "56      1      0      0      0      0      0      0 ...      0  -60.0       1\n",
      "57      1      0      0      0      0      0      0 ...      0  -60.0       1\n",
      "58      1      0      0      0      0      0      1 ...      0  -60.0       1\n",
      "59      1      0      0      0      0      0      1 ...      0  -60.0       1\n",
      "60      1      0      0      0      0      0      0 ...      1  -60.0       1\n",
      "61      1      0      0      0      0      0      0 ...      0  -60.0       1\n",
      "62      1      0      0      0      0      0      1 ...      1  -60.0       1\n",
      "63      1      0      0      0      0      0      0 ...      0  -60.0       1\n",
      "64      1      0      0      0      0      0      0 ...      1  -60.0       1\n",
      "65      1      0      0      0      0      0      1 ...      1  -60.0       1\n",
      "66      1      0      0      0      0      0      0 ...      0  -60.0       1\n",
      "67      1      0      0      0      0      0      0 ...      0  -60.0       1\n",
      "68      1      0      0      0      0      0      0 ...      1  -60.0       1\n",
      "69      1      0      0      0      0      0      1 ...      1  -60.0       1\n",
      "70      1      0      0      0      0      0      0 ...      0  -60.0       1\n",
      "71      1      0      0      0      0      0      0 ...      0  -60.0       1\n",
      "72      1      0      0      0      0      0      0 ...      0  -60.0       1\n",
      "73      1      0      0      0      0      0      0 ...      0  -60.0       1\n",
      "74      1      0      0      0      0      0      1 ...      1  -60.0       1\n",
      "75      1      0      0      0      0      0      0 ...      1  -60.0       1\n",
      "76      1      0      0      0      0      0      0 ...      1  -60.0       1\n",
      "77      1      0      0      0      0      0      0 ...      1  -60.0       1\n",
      "78      1      0      0      0      0      0      0 ...      0  -60.0       1\n",
      "79      1      0      0      0      0      0      0 ...      1  -60.0       1\n",
      "80      1      0      0      0      0      0      1 ...      1  -60.0       1\n",
      "81      1      0      0      0      0      0      0 ...      0  -60.0       1\n",
      "82      1      0      0      0      0      0      0 ...      0  -60.0       1\n",
      "83      1      0      0      0      0      0      0 ...      1  -60.0       1\n",
      "84      1      0      0      0      0      0      0 ...      0  -60.0       1\n",
      "85      1      0      0      0      0      0      0 ...      1  -60.0       1\n",
      "86      1      0      0      0      0      0      1 ...      1  -60.0       1\n",
      "87      1      0      0      0      0      0      0 ...      0  -60.0       1\n",
      "88      1      0      0      0      0      0      0 ...      0  -60.0       1\n",
      "89      1      0      0      0      0      0      0 ...      0  -60.0       1\n",
      "90      1      0      0      0      0      0      0 ...      0  -60.0       1\n",
      "91      1      0      0      0      0      0      1 ...      1  -60.0       1\n",
      "92      1      0      0      0      0      0      0 ...      0  -60.0       1\n",
      "93      1      0      0      0      0      0      0 ...      0  -60.0       1\n",
      "94      1      0      0      0      0      0      0 ...      0  -60.0       1\n",
      "95      1      0      0      0      0      0      0 ...      1  -60.0       1\n",
      "96      1      0      0      0      0      0      0 ...      0  -60.0       1\n",
      "97      1      0      0      0      0      0      0 ...      1  -60.0       1\n",
      "98      1      0      0      0      0      0      0 ...      0  -60.0       1\n",
      "99      1      0      0      0      0      0      0 ...      1  -60.0       1\n",
      "['BINARY', 100 rows, 100 samples, 125 variables]\n"
     ]
    }
   ],
   "source": [
    "sampler2 = neal.SimulatedAnnealingSampler()\n",
    "sampleset2 = sampler2.sample_qubo(Q_reg, num_reads=100)\n",
    "#sampleset = LEAPsampleset\n",
    "minimum_theo_2 = -g1*N*nstars**2 -g2*N**2 \n",
    "print('Theory:', minimum_theo_2)\n",
    "print(sampleset2)"
   ]
  },
  {
   "cell_type": "code",
   "execution_count": null,
   "metadata": {},
   "outputs": [],
   "source": [
    "# sampleset = LEAPsampleset\n",
    "sorted_records2 = sorted(sampleset2.record, key=lambda r: r.energy)\n",
    "variables2 = sampleset2.variables\n",
    "for record2 in sorted_records2:\n",
    "    sample = {x_ij: value for x_ij, value in zip(variables2, record2.sample)}\n",
    "    energy = record.energy\n",
    "    # if energy < -402:\n",
    "    cond_1 = confirm_solution(sample, regions, nstars)\n",
    "    #cond_2 = abs(energy-minimum_theo) < 1e-6\n",
    "    print('Satisfies constraints:', cond_1)\n",
    "    print('Has lowest energy:', cond_2)\n",
    "    sample_to_plot(sample)\n",
    "    if not cond_1:\n",
    "        break"
   ]
  }
 ],
 "metadata": {
  "kernelspec": {
   "display_name": "Python 3",
   "language": "python",
   "name": "python3"
  },
  "language_info": {
   "codemirror_mode": {
    "name": "ipython",
    "version": 3
   },
   "file_extension": ".py",
   "mimetype": "text/x-python",
   "name": "python",
   "nbconvert_exporter": "python",
   "pygments_lexer": "ipython3",
   "version": "3.7.6"
  }
 },
 "nbformat": 4,
 "nbformat_minor": 4
}
