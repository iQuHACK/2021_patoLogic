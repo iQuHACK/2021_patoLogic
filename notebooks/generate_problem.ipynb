{
 "cells": [
  {
   "cell_type": "code",
   "execution_count": 1,
   "metadata": {},
   "outputs": [],
   "source": [
    "from collections import defaultdict\n",
    "import itertools as it\n",
    "import numpy as np\n",
    "\n",
    "from adict import adict"
   ]
  },
  {
   "cell_type": "code",
   "execution_count": 2,
   "metadata": {},
   "outputs": [],
   "source": [
    "def x(i, j):\n",
    "    \"\"\"Variable label\"\"\"\n",
    "    return f\"x{i}_{j}\"\n",
    "\n",
    "def ind(var: str):\n",
    "    \"\"\"Return position indices from variable label\"\"\"\n",
    "    i, j = var[1:].split('_')\n",
    "    return (int(i), int(j))\n",
    "\n",
    "def array_to_sample(array: np.array):\n",
    "    \"\"\"Transform solution given as np.array to dict.\"\"\"\n",
    "    return {\n",
    "        x(i, j): value\n",
    "        for (i, j), value in np.ndenumerate(array)\n",
    "    }\n",
    "\n",
    "def to_grid(dictionary):\n",
    "    \"\"\"Convert annealing sample (dict) to np.array.\"\"\"\n",
    "    star_positions = [ind(var) for var, value in dictionary.items() if value == 1]\n",
    "    print(star_positions)\n",
    "    grid = np.zeros((N, N), dtype=int)\n",
    "    for (i, j) in star_positions:\n",
    "        solution[i, j] = 1\n",
    "    return grid\n",
    "\n",
    "def row_regions(N):\n",
    "    return [[(i, j) for j in range(N)] for i in range(N)]\n",
    "\n",
    "def column_regions(N):\n",
    "    return [[(i, j) for i in range(N)] for j in range(N)]\n",
    "\n",
    "def region_lists(grid: np.array):\n",
    "    \"\"\"Lists of region indices from grid\"\"\"\n",
    "    regions = defaultdict(list)\n",
    "    for (i, j), r in np.ndenumerate(grid):\n",
    "        regions[r].append((i, j))\n",
    "    return list(regions.values())"
   ]
  },
  {
   "cell_type": "code",
   "execution_count": 3,
   "metadata": {},
   "outputs": [],
   "source": [
    "\"\"\"Penalties and constraints\"\"\"\n",
    "\n",
    "def penalties(N):\n",
    "    \"\"\"Closest neighbours should be different.\n",
    "    This is a penalty of type x * y, which is 1 iff x=y=1.\"\"\"\n",
    "\n",
    "    Q = adict(int)\n",
    "    positions = it.product(range(N-1), repeat=2)  # Exclude last row/column\n",
    "\n",
    "    for (i, j) in positions:\n",
    "        neighbours = [(i+1, j), (i, j+1), (i+1, j+1)]\n",
    "        for (i_, j_) in neighbours:\n",
    "            Q[x(i,j), x(i_,j_)] += 1\n",
    "        Q[x(i+1, j), x(i, j+1)] += 1 # Anti-diagonal\n",
    "\n",
    "    last_row = last_col = N-1\n",
    "    for l in range(N-1):\n",
    "        Q[x(last_row, l), x(last_row, l+1)] += 1\n",
    "        Q[x(l, last_col), x(l+1, last_col)] += 1\n",
    "        \n",
    "    return Q\n",
    "\n",
    "def region_constraint(region: list, nstars: int):\n",
    "    \"\"\"All points in :region: sum to :nstars:.\"\"\"\n",
    "    Q = adict(int)\n",
    "    for (i, j) in region:\n",
    "        Q[x(i,j), x(i,j)] -= 2*nstars\n",
    "        for (l, p) in region:\n",
    "            Q[x(i,j), x(l,p)] += 1\n",
    "    return Q"
   ]
  },
  {
   "cell_type": "code",
   "execution_count": 4,
   "metadata": {},
   "outputs": [],
   "source": [
    "# Input data\n",
    "\n",
    "N = 15  # Grid size\n",
    "nstars = 3  # Number of stars\n",
    "\n",
    "\"\"\"\n",
    "grid = np.array([[0,1,1,1,1],\n",
    "                [0,1,1,1,2],\n",
    "                [0,0,0,2,2],\n",
    "                [3,0,3,2,2],\n",
    "                [3,3,3,4,4]])\n",
    "\n",
    "star = np.array([[0,1,0,0,0],\n",
    "                [0,0,0,0,1],\n",
    "                [0,0,1,0,0],\n",
    "                [1,0,0,0,0],\n",
    "                [0,0,0,1,0]])\n",
    "\"\"\"\n",
    "\n",
    "\"\"\"\n",
    "grid = np.array([\n",
    "    [0, 0, 0, 0, 1, 1, 2, 2, 2, 2],\n",
    "    [0, 4, 0, 0, 1, 1, 1, 2, 1, 1],\n",
    "    [0, 4, 4, 1, 1, 1, 1, 1, 1, 1],\n",
    "    [4, 4, 4, 4, 1, 5, 5, 5, 5, 1],\n",
    "    [4, 4, 1, 1, 1, 1, 1, 1, 5, 1],\n",
    "    [6, 6, 6, 6, 7, 7, 8, 8, 8, 8],\n",
    "    [6, 9, 6, 6, 7, 7, 7, 8, 7, 7],\n",
    "    [6, 9, 9, 7, 7, 7, 7, 7, 7, 7],\n",
    "    [9, 9, 9, 9, 7, 10, 10, 10, 10, 7],\n",
    "    [9, 9, 7, 7, 7, 7, 7, 7, 10, 7],\n",
    "])\n",
    "\n",
    "star = np.array([\n",
    "    [0, 0, 0, 1, 0, 0, 0, 0, 0, 1],\n",
    "    [0, 0, 0, 0, 0, 1, 0, 1, 0, 0],\n",
    "    [1, 0, 1, 0, 0, 0, 0, 0, 0, 0],\n",
    "    [0, 0, 0, 0, 0, 0, 1, 0, 1, 0],\n",
    "    [0, 1, 0, 0, 1, 0, 0, 0, 0, 0],\n",
    "    [0, 0, 0, 0, 0, 0, 1, 0, 0, 1],\n",
    "    [0, 0, 1, 0, 1, 0, 0, 0, 0, 0],\n",
    "    [1, 0, 0, 0, 0, 0, 0, 1, 0, 0],\n",
    "    [0, 0, 0, 1, 0, 1, 0, 0, 0, 0],\n",
    "    [0, 1, 0, 0, 0, 0, 0, 0, 1, 0],\n",
    "])\n",
    "\"\"\"\n",
    "\n",
    "a, b, c, d, e, f, g, h, i, j, k, l, m, n, o = range(15)\n",
    "grid = np.array([\n",
    "    [a, a, a, a, a, b, b, b, b, b, c, c, c, c, c],\n",
    "    [a, d, d, d, d, b, b, b, b, b, e, e, e, c, c],\n",
    "    [a, d, d, d, d, d, d, b, e, e, e, e, e, e, c],\n",
    "    [a, d, d, d, f, d, d, b, e, e, g, e, e, e, c],\n",
    "    [a, d, d, f, f, f, h, h, h, g, g, g, e, e, c],\n",
    "    [a, a, a, f, f, f, h, h, h, g, g, g, c, c, c],\n",
    "    [a, a, h, h, f, h, h, i, h, h, g, h, c, c, c],\n",
    "    [a, a, a, h, h, h, i, i, i, h, h, h, j, j, j],\n",
    "    [a, a, a, k, k, k, i, i, i, k, k, k, k, l, j],\n",
    "    [a, a, a, m, k, k, k, i, k, k, k, m, l, l, j],\n",
    "    [n, n, n, m, m, k, k, k, k, k, m, m, l, l, j],\n",
    "    [n, n, n, o, m, m, m, m, m, m, m, l, l, l, j],\n",
    "    [n, o, o, o, o, m, m, m, m, m, o, o, l, l, l],\n",
    "    [n, o, o, o, o, o, m, m, m, o, o, o, l, l, l],\n",
    "    [n, n, o, o, o, o, o, o, o, o, o, o, l, l, l],\n",
    "])"
   ]
  },
  {
   "cell_type": "code",
   "execution_count": 23,
   "metadata": {},
   "outputs": [],
   "source": [
    "# Build QUBO\n",
    "\n",
    "Q = penalties(N)\n",
    "\n",
    "regions = [\n",
    "    *region_lists(grid),\n",
    "    *row_regions(N),\n",
    "    *column_regions(N),\n",
    "]\n",
    "\n",
    "γ = .5\n",
    "for region in regions:\n",
    "    Q = Q + γ * region_constraint(region, nstars)"
   ]
  },
  {
   "cell_type": "markdown",
   "metadata": {},
   "source": [
    "### Annealing"
   ]
  },
  {
   "cell_type": "code",
   "execution_count": 24,
   "metadata": {},
   "outputs": [
    {
     "name": "stdout",
     "output_type": "stream",
     "text": [
      "  x0_0 x0_1 x0_10 x0_11 x0_12 x0_13 x0_14 x0_2 x0_3 ... x9_9 energy num_oc.\n",
      "0    0    0     0     1     0     1     0    0    0 ...    0 -201.5       1\n",
      "['BINARY', 1 rows, 1 samples, 225 variables]\n"
     ]
    }
   ],
   "source": [
    "# Create Sampler\n",
    "\n",
    "\"\"\"\n",
    "# Simulated sampling\n",
    "\n",
    "import neal\n",
    "sampler = neal.SimulatedAnnealingSampler()\n",
    "\n",
    "# Try Sampling\n",
    "sampleset = sampler.sample_qubo(Q, num_reads=20_000)\n",
    "# print(sampleset)\n",
    "\"\"\"\n",
    "\n",
    "# Go to DWave\n",
    "from dwave.system import LeapHybridSampler\n",
    "LEAPsampler = LeapHybridSampler()\n",
    "\n",
    "# Try Sampling\n",
    "LEAPsampleset = LEAPsampler.sample_qubo(Q)\n",
    "print(LEAPsampleset)"
   ]
  },
  {
   "cell_type": "code",
   "execution_count": 10,
   "metadata": {},
   "outputs": [],
   "source": []
  },
  {
   "cell_type": "code",
   "execution_count": 25,
   "metadata": {},
   "outputs": [],
   "source": [
    "\"\"\"Solution checks\"\"\"\n",
    "\n",
    "def region_criterion(sample, region: list, nstars: int):\n",
    "    '''Check if :sample: respects :region: criterion'''\n",
    "    region_sum = sum(sample[x(i, j)] for (i, j) in region)\n",
    "    return region_sum == nstars\n",
    "    \n",
    "def proximity_criterion(sample):\n",
    "    star_positions = [ind(var) for var, value in sample.items() if value == 1]\n",
    "    bad_distances = {(0, 1), (1, 0), (1, 1)}\n",
    "    for (i, j), (i_, j_) in it.combinations(star_positions, 2):\n",
    "        dist = di, dj = abs(i - i_), abs(j - j_)\n",
    "        if dist in bad_distances:\n",
    "            return False\n",
    "    return True\n",
    "\n",
    "def confirm_solution(sample, regions, nstars):\n",
    "    '''Check if sample corresponds solves problem'''\n",
    "    for region in regions:\n",
    "        if not region_criterion(sample, region, nstars):\n",
    "            return False\n",
    "        \n",
    "    if not proximity_criterion(sample):\n",
    "        return False\n",
    "    \n",
    "    return True"
   ]
  },
  {
   "cell_type": "code",
   "execution_count": 26,
   "metadata": {},
   "outputs": [],
   "source": [
    "import matplotlib.pyplot as plt\n",
    "\n",
    "def draw_puzzle(grid, star):\n",
    "    fig, ax = plt.subplots()\n",
    "    mat = ax.imshow(grid, cmap='GnBu', interpolation='nearest')\n",
    "    for x in range(star.shape[0]):\n",
    "        for y in range(star.shape[1]):\n",
    "            if star[x,y] == 1:\n",
    "                ax.annotate(\"*\", xy=(y, x), horizontalalignment='center', verticalalignment='center',size=30)\n",
    "    plt.xticks([])\n",
    "    plt.yticks([])\n",
    "    plt.show()\n",
    "    \n",
    "def sample_to_plot(grid, sample):\n",
    "    star_positions = [ind(var) for var, value in sample.items() if value == 1]\n",
    "    solution = np.zeros((N, N), dtype=int)\n",
    "    for (i, j) in star_positions:\n",
    "        solution[i, j] = 1\n",
    "    draw_puzzle(grid, solution)"
   ]
  },
  {
   "cell_type": "code",
   "execution_count": 27,
   "metadata": {},
   "outputs": [
    {
     "name": "stdout",
     "output_type": "stream",
     "text": [
      "False\n"
     ]
    },
    {
     "data": {
      "image/png": "[encoded data removed]",
      "text/plain": [
       "<Figure size 432x288 with 1 Axes>"
      ]
     },
     "metadata": {},
     "output_type": "display_data"
    }
   ],
   "source": [
    "sampleset = LEAPsampleset\n",
    "sorted_records = sorted(sampleset.record, key=lambda r: r.energy)\n",
    "variables = sampleset.variables\n",
    "for record in sorted_records:\n",
    "    sample = {x_ij: value for x_ij, value in zip(variables, record.sample)}\n",
    "    energy = record.energy\n",
    "    # if energy < -402:\n",
    "    print(confirm_solution(sample, regions, nstars))\n",
    "    sample_to_plot(grid, sample)"
   ]
  },
  {
   "cell_type": "code",
   "execution_count": null,
   "metadata": {},
   "outputs": [],
   "source": []
  }
 ],
 "metadata": {
  "kernelspec": {
   "display_name": "Python 3",
   "language": "python",
   "name": "python3"
  },
  "language_info": {
   "codemirror_mode": {
    "name": "ipython",
    "version": 3
   },
   "file_extension": ".py",
   "mimetype": "text/x-python",
   "name": "python",
   "nbconvert_exporter": "python",
   "pygments_lexer": "ipython3",
   "version": "3.7.6"
  }
 },
 "nbformat": 4,
 "nbformat_minor": 4
}
