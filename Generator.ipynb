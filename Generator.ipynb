{
 "cells": [
  {
   "cell_type": "code",
   "execution_count": 54,
   "metadata": {},
   "outputs": [],
   "source": [
    "import numpy as np\n",
    "import matplotlib.pyplot as plt"
   ]
  },
  {
   "cell_type": "code",
   "execution_count": 62,
   "metadata": {},
   "outputs": [],
   "source": [
    "def starbattle_generator(S, N, n_attempts=0, n_fails=0):\n",
    "    Stot = S*N\n",
    "    r = 1\n",
    "    success = False\n",
    "    coord_grid = np.arange(N*N)\n",
    "    good_coords = np.zeros((Stot,2), dtype=int)\n",
    "    #n_attempts = 0\n",
    "    while not success:\n",
    "        n_attempts += 1\n",
    "        coord_grid = np.arange(N*N)\n",
    "        np.random.shuffle(coord_grid)\n",
    "        coord_grid = np.array([(i//N,i%N) for i in coord_grid])\n",
    "        stars = np.zeros((N,N), dtype=int)\n",
    "        n_placed_stars = 0\n",
    "        for coord in coord_grid:\n",
    "            row = np.sum(stars[coord[0]])\n",
    "            col = np.sum(stars[:,coord[1]])\n",
    "            rl = max(coord[0]-r, 0)\n",
    "            rh = min(coord[0]+r+1, N)\n",
    "            cl = max(coord[1]-r, 0)\n",
    "            ch = min(coord[1]+r+1, N)\n",
    "            reg = np.sum(stars[rl:rh, cl:ch])\n",
    "            if (row<S) and (col<S) and (reg == 0):\n",
    "                #print(row, col, reg)\n",
    "                stars[tuple(coord)] = 1\n",
    "                good_coords[n_placed_stars,:] = coord\n",
    "                n_placed_stars += 1\n",
    "                if n_placed_stars == Stot:\n",
    "                    success = True\n",
    "                    #print(star, n_attempts)\n",
    "                    break\n",
    "            else:\n",
    "                continue\n",
    "    grid = np.zeros((N*N), dtype=int)\n",
    "    for n in range(N*N):\n",
    "        n_coord = (n//N, n%N)\n",
    "        best_dist = 2*N\n",
    "        for ind, star in enumerate(good_coords):\n",
    "            dist = (n_coord[0]-star[0])**2 + (n_coord[1] - star[1])**2\n",
    "            if best_dist > dist:\n",
    "                best_dist = dist\n",
    "                grid[n] = ind\n",
    "    grid = grid.reshape(N,N)\n",
    "    nn = grid.max()\n",
    "    tmp = np.zeros((nn+1, nn+1), bool)\n",
    "\n",
    "    # check the vertical adjacency\n",
    "    a, b = grid[:-1, :], grid[1:, :]\n",
    "    tmp[a[a!=b], b[a!=b]] = True\n",
    "\n",
    "    # check the horizontal adjacency\n",
    "    a, b = grid[:, :-1], grid[:, 1:]\n",
    "    tmp[a[a!=b], b[a!=b]] = True\n",
    "\n",
    "    # register adjacency in both directions (up, down) and (left,right)\n",
    "    result = (tmp | tmp.T).astype(int)\n",
    "    neighs = [[ii, list(np.flatnonzero(row))] for ii, row in enumerate(result)]\n",
    "    neighs = sorted(neighs, key=lambda x: len(x[1]))\n",
    "    if len(neighs[0][1]) < S-1:\n",
    "        return starbattle_generator(S, N, n_attempts=n_attempts, n_fails=n_fails)\n",
    "    failed = True\n",
    "    new_fails = 0\n",
    "    while failed:\n",
    "        neighbors = neighs[:]\n",
    "        #display(neighbors)\n",
    "        regs = []\n",
    "        reg_size = 0\n",
    "        while reg_size < N:\n",
    "            if len(neighbors[0][1]) < S-1:\n",
    "                failed = True\n",
    "                new_fails += 1\n",
    "                break\n",
    "            cand = np.random.choice(neighbors[0][1], S-1, replace=False)\n",
    "            cand = [neighbors[0][0], *cand]\n",
    "            regs.append(cand)\n",
    "            #print(regs, cand)\n",
    "            reg_size += 1\n",
    "            n2 = neighbors[:]\n",
    "            to_del = []\n",
    "            for ind, neigh in enumerate(neighbors):\n",
    "                #print(ind, neigh)\n",
    "                if neigh[0] in cand:\n",
    "                    to_del += [ind]\n",
    "                else:\n",
    "                    for el in cand:\n",
    "                        if el in neigh[1]:\n",
    "                            n2[ind][1].remove(el)\n",
    "            for el in reversed(to_del):\n",
    "                del n2[el]\n",
    "            neighbors = n2\n",
    "            failed = False\n",
    "        if new_fails > 3:\n",
    "            return starbattle_generator(S, N, n_attempts=n_attempts, n_fails=n_fails+new_fails)\n",
    "    print(\"It took {} attempt(s) to generate the stars.\".format(n_attempts))\n",
    "    print(\"It took {} attempt(s) to generate the regions.\".format(n_fails+1))\n",
    "    #display(neighbors,regs)\n",
    "    for ind, reg in enumerate(regs):\n",
    "        grid[grid == reg[0]] = -ind-1\n",
    "        grid[grid == reg[1]] = -ind-1\n",
    "    grid = -grid-1\n",
    "    return grid, stars, neighs"
   ]
  },
  {
   "cell_type": "code",
   "execution_count": 73,
   "metadata": {},
   "outputs": [
    {
     "name": "stdout",
     "output_type": "stream",
     "text": [
      "It took 34 attempt(s) to generate the stars.\n",
      "It took 1 attempt(s) to generate the regions.\n"
     ]
    },
    {
     "data": {
      "text/plain": [
       "array([[1, 1, 4, 4, 4, 4, 4, 2, 2, 2],\n",
       "       [1, 1, 4, 4, 4, 4, 9, 2, 2, 2],\n",
       "       [1, 1, 1, 4, 9, 9, 9, 2, 2, 2],\n",
       "       [7, 1, 1, 9, 9, 9, 9, 6, 2, 6],\n",
       "       [7, 7, 1, 7, 9, 9, 6, 6, 6, 6],\n",
       "       [7, 7, 7, 7, 7, 5, 5, 3, 6, 6],\n",
       "       [7, 8, 8, 7, 5, 5, 5, 3, 3, 3],\n",
       "       [8, 8, 8, 8, 8, 5, 5, 3, 3, 3],\n",
       "       [0, 8, 0, 8, 8, 5, 5, 5, 3, 3],\n",
       "       [0, 0, 0, 0, 8, 5, 5, 5, 5, 3]])"
      ]
     },
     "metadata": {},
     "output_type": "display_data"
    },
    {
     "data": {
      "text/plain": [
       "array([[0, 0, 0, 0, 0, 1, 0, 0, 1, 0],\n",
       "       [0, 1, 0, 1, 0, 0, 0, 0, 0, 0],\n",
       "       [0, 0, 0, 0, 0, 0, 1, 0, 1, 0],\n",
       "       [0, 0, 1, 0, 1, 0, 0, 0, 0, 0],\n",
       "       [0, 0, 0, 0, 0, 0, 0, 1, 0, 1],\n",
       "       [1, 0, 0, 1, 0, 0, 0, 0, 0, 0],\n",
       "       [0, 0, 0, 0, 0, 1, 0, 1, 0, 0],\n",
       "       [0, 1, 0, 0, 0, 0, 0, 0, 0, 1],\n",
       "       [0, 0, 0, 0, 1, 0, 1, 0, 0, 0],\n",
       "       [1, 0, 1, 0, 0, 0, 0, 0, 0, 0]])"
      ]
     },
     "metadata": {},
     "output_type": "display_data"
    }
   ],
   "source": [
    "N = 10\n",
    "S = 2\n",
    "grid, stars, neighbors = starbattle_generator(S,N)\n",
    "display(grid, stars)"
   ]
  },
  {
   "cell_type": "code",
   "execution_count": 74,
   "metadata": {},
   "outputs": [
    {
     "data": {
      "image/png": "[encoded data removed]",
      "text/plain": [
       "<Figure size 432x288 with 1 Axes>"
      ]
     },
     "metadata": {},
     "output_type": "display_data"
    }
   ],
   "source": [
    "def draw_puzzle(grid,star):\n",
    "    fig, ax = plt.subplots()\n",
    "    mat = ax.imshow(grid, cmap='GnBu', interpolation='nearest')\n",
    "    for x in range(star.shape[0]):\n",
    "        for y in range(star.shape[1]):\n",
    "            if star[x,y] == 1:\n",
    "                ax.annotate(\"*\", xy=(y, x), horizontalalignment='center', verticalalignment='center',size=20)\n",
    "    plt.xticks([])\n",
    "    plt.yticks([])\n",
    "    plt.show()\n",
    "\n",
    "draw_puzzle(grid,stars)"
   ]
  },
  {
   "cell_type": "code",
   "execution_count": null,
   "metadata": {},
   "outputs": [],
   "source": []
  }
 ],
 "metadata": {
  "kernelspec": {
   "display_name": "Python 3",
   "language": "python",
   "name": "python3"
  },
  "language_info": {
   "codemirror_mode": {
    "name": "ipython",
    "version": 3
   },
   "file_extension": ".py",
   "mimetype": "text/x-python",
   "name": "python",
   "nbconvert_exporter": "python",
   "pygments_lexer": "ipython3",
   "version": "3.7.6"
  }
 },
 "nbformat": 4,
 "nbformat_minor": 4
}
