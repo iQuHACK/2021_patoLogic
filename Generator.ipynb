{
 "cells": [
  {
   "cell_type": "code",
   "execution_count": 1,
   "metadata": {},
   "outputs": [],
   "source": [
    "import numpy as np\n",
    "import networkx as nx"
   ]
  },
  {
   "cell_type": "code",
   "execution_count": 2,
   "metadata": {},
   "outputs": [],
   "source": [
    "N = 10\n",
    "S = 2\n",
    "B = 10\n",
    "r = 1"
   ]
  },
  {
   "cell_type": "code",
   "execution_count": 31,
   "metadata": {},
   "outputs": [],
   "source": [
    "grid = np.array([[0,1,1,1,1],\n",
    "                [0,1,1,1,2],\n",
    "                [0,0,0,2,2],\n",
    "                [3,0,3,2,2],\n",
    "                [3,3,3,4,4]])\n",
    "star = np.array([[0,1,0,0,0],\n",
    "                [0,0,0,0,1],\n",
    "                [0,0,1,0,0],\n",
    "                [1,0,0,0,0],\n",
    "                [0,0,0,1,0]])"
   ]
  },
  {
   "cell_type": "code",
   "execution_count": 3,
   "metadata": {},
   "outputs": [],
   "source": [
    "def starbattle_generator(S, N, n_attempts=0, n_fails=0):\n",
    "    Stot = S*N\n",
    "    success = False\n",
    "    coord_grid = np.arange(N*N)\n",
    "    good_coords = np.zeros((Stot,2), dtype=int)\n",
    "    #n_attempts = 0\n",
    "    while not success:\n",
    "        n_attempts += 1\n",
    "        coord_grid = np.arange(N*N)\n",
    "        np.random.shuffle(coord_grid)\n",
    "        coord_grid = np.array([(i//N,i%N) for i in coord_grid])\n",
    "        stars = np.zeros((N,N), dtype=int)\n",
    "        n_placed_stars = 0\n",
    "        for coord in coord_grid:\n",
    "            row = np.sum(stars[coord[0]])\n",
    "            col = np.sum(stars[:,coord[1]])\n",
    "            rl = max(coord[0]-r, 0)\n",
    "            rh = min(coord[0]+r+1, N)\n",
    "            cl = max(coord[1]-r, 0)\n",
    "            ch = min(coord[1]+r+1, N)\n",
    "            reg = np.sum(stars[rl:rh, cl:ch])\n",
    "            if  (row<N) and (col<N) and (reg == 0):\n",
    "                stars[tuple(coord)] = 1\n",
    "                good_coords[n_placed_stars,:] = coord\n",
    "                n_placed_stars += 1\n",
    "                if n_placed_stars == Stot:\n",
    "                    success = True\n",
    "                    #print(star, n_attempts)\n",
    "                    break\n",
    "            else:\n",
    "                continue\n",
    "    grid = np.zeros((N*N), dtype=int)\n",
    "    for n in range(N*N):\n",
    "        n_coord = (n//N, n%N)\n",
    "        best_dist = 2*N\n",
    "        for ind, star in enumerate(good_coords):\n",
    "            dist = (n_coord[0]-star[0])**2 + (n_coord[1] - star[1])**2\n",
    "            if best_dist > dist:\n",
    "                best_dist = dist\n",
    "                grid[n] = ind\n",
    "    grid = grid.reshape(N,N)\n",
    "    nn = grid.max()\n",
    "    tmp = np.zeros((nn+1, nn+1), bool)\n",
    "\n",
    "    # check the vertical adjacency\n",
    "    a, b = grid[:-1, :], grid[1:, :]\n",
    "    tmp[a[a!=b], b[a!=b]] = True\n",
    "\n",
    "    # check the horizontal adjacency\n",
    "    a, b = grid[:, :-1], grid[:, 1:]\n",
    "    tmp[a[a!=b], b[a!=b]] = True\n",
    "\n",
    "    # register adjacency in both directions (up, down) and (left,right)\n",
    "    result = (tmp | tmp.T).astype(int)\n",
    "    neighs = [[ii, list(np.flatnonzero(row))] for ii, row in enumerate(result)]\n",
    "    neighs = sorted(neighs, key=lambda x: len(x[1]))\n",
    "    if len(neighs[0][1]) < S-1:\n",
    "        return starbattle_generator(S, N, n_attempts=n_attempts, n_fails=n_fails)\n",
    "    failed = True\n",
    "    new_fails = 0\n",
    "    while failed:\n",
    "        neighbors = neighs[:]\n",
    "        #display(neighbors)\n",
    "        regs = []\n",
    "        reg_size = 0\n",
    "        while reg_size < N:\n",
    "            if len(neighbors[0][1]) < S-1:\n",
    "                failed = True\n",
    "                new_fails += 1\n",
    "                break\n",
    "            cand = np.random.choice(neighbors[0][1], S-1, replace=False)\n",
    "            cand = [neighbors[0][0], *cand]\n",
    "            regs.append(cand)\n",
    "            #print(regs, cand)\n",
    "            reg_size += 1\n",
    "            n2 = neighbors[:]\n",
    "            to_del = []\n",
    "            for ind, neigh in enumerate(neighbors):\n",
    "                #print(ind, neigh)\n",
    "                if neigh[0] in cand:\n",
    "                    to_del += [ind]\n",
    "                else:\n",
    "                    for el in cand:\n",
    "                        if el in neigh[1]:\n",
    "                            n2[ind][1].remove(el)\n",
    "            for el in reversed(to_del):\n",
    "                del n2[el]\n",
    "            neighbors = n2\n",
    "            failed = False\n",
    "        if new_fails > 3:\n",
    "            return starbattle_generator(S, N, n_attempts=n_attempts, n_fails=n_fails+new_fails)\n",
    "    print(\"It took {} attempt(s) to generate the stars.\".format(n_attempts))\n",
    "    print(\"It took {} attempt(s) to generate the regions.\".format(n_fails+1))\n",
    "    #display(neighbors,regs)\n",
    "    for ind, reg in enumerate(regs):\n",
    "        grid[grid == reg[0]] = -ind-1\n",
    "        grid[grid == reg[1]] = -ind-1\n",
    "    grid = -grid-1\n",
    "    return grid, stars"
   ]
  },
  {
   "cell_type": "code",
   "execution_count": 5,
   "metadata": {},
   "outputs": [
    {
     "name": "stdout",
     "output_type": "stream",
     "text": [
      "It took 1 attempt(s) to generate the stars.\n",
      "It took 1 attempt(s) to generate the regions.\n"
     ]
    },
    {
     "data": {
      "text/plain": [
       "[]"
      ]
     },
     "metadata": {},
     "output_type": "display_data"
    },
    {
     "data": {
      "text/plain": [
       "[[3, 4],\n",
       " [12, 9],\n",
       " [17, 1],\n",
       " [18, 19],\n",
       " [8, 13],\n",
       " [11, 6],\n",
       " [14, 2],\n",
       " [7, 15],\n",
       " [5, 0],\n",
       " [16, 10]]"
      ]
     },
     "metadata": {},
     "output_type": "display_data"
    },
    {
     "data": {
      "text/plain": [
       "array([[3, 3, 4, 4, 4, 4, 7, 7, 7, 1],\n",
       "       [3, 3, 4, 4, 4, 4, 7, 7, 1, 1],\n",
       "       [3, 3, 4, 4, 8, 8, 7, 1, 1, 1],\n",
       "       [3, 8, 8, 8, 8, 8, 7, 7, 1, 1],\n",
       "       [8, 8, 8, 9, 8, 8, 7, 5, 5, 5],\n",
       "       [2, 2, 9, 9, 9, 9, 9, 5, 5, 5],\n",
       "       [2, 2, 2, 6, 9, 9, 9, 5, 5, 5],\n",
       "       [2, 2, 6, 6, 6, 0, 0, 5, 5, 5],\n",
       "       [2, 2, 6, 6, 0, 0, 0, 0, 0, 0],\n",
       "       [2, 6, 6, 6, 0, 0, 0, 0, 0, 0]])"
      ]
     },
     "metadata": {},
     "output_type": "display_data"
    },
    {
     "data": {
      "text/plain": [
       "array([[1, 0, 0, 0, 0, 1, 0, 1, 0, 1],\n",
       "       [0, 0, 0, 1, 0, 0, 0, 0, 0, 0],\n",
       "       [1, 0, 0, 0, 0, 0, 0, 0, 1, 0],\n",
       "       [0, 0, 0, 0, 1, 0, 1, 0, 0, 0],\n",
       "       [0, 1, 0, 0, 0, 0, 0, 0, 0, 0],\n",
       "       [0, 0, 0, 1, 0, 0, 0, 0, 1, 0],\n",
       "       [0, 1, 0, 0, 0, 1, 0, 0, 0, 0],\n",
       "       [0, 0, 0, 1, 0, 0, 0, 0, 1, 0],\n",
       "       [1, 0, 0, 0, 0, 1, 0, 0, 0, 0],\n",
       "       [0, 0, 1, 0, 0, 0, 0, 0, 1, 0]])"
      ]
     },
     "metadata": {},
     "output_type": "display_data"
    }
   ],
   "source": [
    "grid, stars = starbattle_generator(2,10)\n",
    "display(grid, stars)"
   ]
  },
  {
   "cell_type": "code",
   "execution_count": 136,
   "metadata": {},
   "outputs": [
    {
     "data": {
      "image/png": "[encoded data removed]",
      "text/plain": [
       "<Figure size 432x288 with 1 Axes>"
      ]
     },
     "metadata": {},
     "output_type": "display_data"
    }
   ],
   "source": [
    "G = nx.Graph()\n",
    "for ind, neigh in enumerate(test):\n",
    "    G.add_edges_from([[ind, ne] for ne in neigh])\n",
    "nx.draw_spring(G, with_labels=True)"
   ]
  },
  {
   "cell_type": "code",
   "execution_count": null,
   "metadata": {},
   "outputs": [],
   "source": [
    "from itertools import product\n",
    "from string import ascii_uppercase as ABC\n",
    "from time import time\n",
    "\n",
    "\n",
    "def _insert_newlines(string, every=128):\n",
    "    return \"\\n\".join(string[i:i + every] for i in range(0, len(string), every))\n",
    "\n",
    "\n",
    "def main(grid):\n",
    "    t0 = time()\n",
    "    S = grid.count(\"\\n\")\n",
    "    LENGHT = S * S\n",
    "    N = int(grid[0])\n",
    "    TOTAL = N * S\n",
    "    grid = \"\".join(grid[1:].split())\n",
    "    possibles = tuple(set(i for i in range(LENGHT) if grid[i] is l)\n",
    "                    for l in ABC[:S])\n",
    "    regions = sorted(range(S), key=lambda x: grid.count(ABC[:S][x]))\n",
    "    adjacent = []\n",
    "    for a in range(LENGHT):\n",
    "        cols = [0]\n",
    "        rows = [0]\n",
    "        if a % S > 0:\n",
    "            cols.append(-1)\n",
    "        if a % S < S - 1:\n",
    "            cols.append(1)\n",
    "        if a // S > 0:\n",
    "            rows.append(-S)\n",
    "        if a // S < S - 1:\n",
    "            rows.append(S)\n",
    "        adjacent.append(set(a + sum(i) for i in product(cols, rows)))\n",
    "    cs = tuple(set(range(i, LENGHT, S)) for i in range(S))\n",
    "    rs = (0,) * S + tuple(set(range(i * S, i * S + S)) for i in range(S))\n",
    "    cr = tuple((i % S, i // S + S) for i in range(LENGHT))\n",
    "\n",
    "    def solve(grid, impossibles, colrows, count=0):\n",
    "        if count == TOTAL:\n",
    "            return grid\n",
    "        for a in possibles[regions[count // N]] - impossibles:\n",
    "            c, r = cr[a]\n",
    "            tryimpossibles = impossibles | adjacent[a]\n",
    "            trycolrows = colrows[:]\n",
    "            trycolrows[c] += 1\n",
    "            trycolrows[r] += 1\n",
    "            if trycolrows[c] == N:\n",
    "                tryimpossibles.update(cs[c])\n",
    "            if trycolrows[r] == N:\n",
    "                tryimpossibles.update(rs[r])\n",
    "            s = solve(grid + (a,), tryimpossibles, trycolrows, count + 1)\n",
    "            if s:\n",
    "                break\n",
    "        else:\n",
    "            return None\n",
    "        return s\n",
    "    s = solve((), set(), bytearray(S + S))\n",
    "    if s:\n",
    "        s = \"\".join(\"*\" if i in s else \".\" for i in range(LENGHT))\n",
    "        print(_insert_newlines(s, S))\n",
    "    print(\"Took\", time() - t0, \"seconds\")"
   ]
  }
 ],
 "metadata": {
  "kernelspec": {
   "display_name": "Python 3",
   "language": "python",
   "name": "python3"
  },
  "language_info": {
   "codemirror_mode": {
    "name": "ipython",
    "version": 3
   },
   "file_extension": ".py",
   "mimetype": "text/x-python",
   "name": "python",
   "nbconvert_exporter": "python",
   "pygments_lexer": "ipython3",
   "version": "3.7.6"
  }
 },
 "nbformat": 4,
 "nbformat_minor": 4
}
