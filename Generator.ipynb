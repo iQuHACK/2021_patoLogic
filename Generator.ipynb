{
 "cells": [
  {
   "cell_type": "code",
   "execution_count": 29,
   "metadata": {},
   "outputs": [],
   "source": [
    "import numpy as np"
   ]
  },
  {
   "cell_type": "code",
   "execution_count": 132,
   "metadata": {},
   "outputs": [],
   "source": [
    "N = 10\n",
    "S = 2\n",
    "B = 10\n",
    "r = 1"
   ]
  },
  {
   "cell_type": "code",
   "execution_count": 31,
   "metadata": {},
   "outputs": [],
   "source": [
    "grid = np.array([[0,1,1,1,1],\n",
    "                [0,1,1,1,2],\n",
    "                [0,0,0,2,2],\n",
    "                [3,0,3,2,2],\n",
    "                [3,3,3,4,4]])\n",
    "star = np.array([[0,1,0,0,0],\n",
    "                [0,0,0,0,1],\n",
    "                [0,0,1,0,0],\n",
    "                [1,0,0,0,0],\n",
    "                [0,0,0,1,0]])"
   ]
  },
  {
   "cell_type": "code",
   "execution_count": 130,
   "metadata": {},
   "outputs": [],
   "source": [
    "def starbattle_generator(S, N):\n",
    "    success = False\n",
    "    coord_grid = np.arange(N*N)\n",
    "    good_coords = np.zeros((N,2), dtype=int)\n",
    "    n_attempts = 0\n",
    "    while not success:\n",
    "        n_attempts += 1\n",
    "        coord_grid = np.arange(N*N)\n",
    "        np.random.shuffle(coord_grid)\n",
    "        coord_grid = np.array([(i//N,i%N) for i in coord_grid])\n",
    "        stars = np.zeros((N,N), dtype=int)\n",
    "        n_placed_stars = 0\n",
    "        for coord in coord_grid:\n",
    "            row = np.sum(stars[coord[0]])\n",
    "            col = np.sum(stars[:,coord[1]])\n",
    "            rl = max(coord[0]-r, 0)\n",
    "            rh = min(coord[0]+r+1, N)\n",
    "            cl = max(coord[1]-r, 0)\n",
    "            ch = min(coord[1]+r+1, N)\n",
    "            reg = np.sum(stars[rl:rh, cl:ch])\n",
    "            if  row+col+reg == 0:\n",
    "                stars[tuple(coord)] = 1\n",
    "                good_coords[n_placed_stars,:] = coord\n",
    "                n_placed_stars += 1\n",
    "                if n_placed_stars == N:\n",
    "                    success = True\n",
    "                    #print(star, n_attempts)\n",
    "                    break\n",
    "            else:\n",
    "                continue\n",
    "    grid = np.zeros((N*N), dtype=int)\n",
    "    for n in range(N*N):\n",
    "        n_coord = (n//N, n%N)\n",
    "        best_dist = 2*N\n",
    "        for ind, star in enumerate(good_coords):\n",
    "            dist = (n_coord[0]-star[0])**2 + (n_coord[1] - star[1])**2\n",
    "            if best_dist > dist:\n",
    "                best_dist = dist\n",
    "                grid[n] = ind\n",
    "    grid = grid.reshape(N,N)\n",
    "    nn = grid.max()\n",
    "    tmp = np.zeros((nn+1, nn+1), bool)\n",
    "\n",
    "    # check the vertical adjacency\n",
    "    a, b = grid[:-1, :], grid[1:, :]\n",
    "    tmp[a[a!=b], b[a!=b]] = True\n",
    "\n",
    "    # check the horizontal adjacency\n",
    "    a, b = grid[:, :-1], grid[:, 1:]\n",
    "    tmp[a[a!=b], b[a!=b]] = True\n",
    "\n",
    "    # register adjacency in both directions (up, down) and (left,right)\n",
    "    result = (tmp | tmp.T).astype(int)\n",
    "    neighbors = [np.flatnonzero(row) for row in result]\n",
    "    print(\"It took {} attempt(s) to generate the puzzle.\".format(n_attempts))\n",
    "    return grid, stars, neighbors"
   ]
  },
  {
   "cell_type": "code",
   "execution_count": 87,
   "metadata": {},
   "outputs": [],
   "source": [
    "stars = np.array([[0, 1, 0, 0, 0],\n",
    "        [0, 0, 0, 1, 0],\n",
    "        [1, 0, 0, 0, 0],\n",
    "        [0, 0, 0, 0, 1],\n",
    "        [0, 0, 1, 0, 0]])"
   ]
  },
  {
   "cell_type": "code",
   "execution_count": 99,
   "metadata": {},
   "outputs": [],
   "source": [
    "grid = np.array([[4, 4, 1, 1, 3],\n",
    "        [4, 1, 1, 1, 3],\n",
    "        [2, 2, 1, 3, 3],\n",
    "        [2, 2, 2, 0, 3],\n",
    "        [2, 2, 0, 0, 0]])"
   ]
  },
  {
   "cell_type": "code",
   "execution_count": 118,
   "metadata": {},
   "outputs": [],
   "source": [
    "import networkx as nx\n"
   ]
  },
  {
   "cell_type": "code",
   "execution_count": 122,
   "metadata": {},
   "outputs": [
    {
     "data": {
      "image/png": "[encoded data removed]",
      "text/plain": [
       "<Figure size 432x288 with 1 Axes>"
      ]
     },
     "metadata": {},
     "output_type": "display_data"
    }
   ],
   "source": [
    "nx.draw(G, with_labels=True)"
   ]
  },
  {
   "cell_type": "code",
   "execution_count": 127,
   "metadata": {},
   "outputs": [
    {
     "ename": "ModuleNotFoundError",
     "evalue": "No module named 'metis'",
     "output_type": "error",
     "traceback": [
      "\u001b[0;31m---------------------------------------------------------------------------\u001b[0m",
      "\u001b[0;31mModuleNotFoundError\u001b[0m                       Traceback (most recent call last)",
      "\u001b[0;32m<ipython-input-127-c3f2da54bf0c>\u001b[0m in \u001b[0;36m<module>\u001b[0;34m\u001b[0m\n\u001b[0;32m----> 1\u001b[0;31m \u001b[0;32mimport\u001b[0m \u001b[0mmetis\u001b[0m\u001b[0;34m\u001b[0m\u001b[0;34m\u001b[0m\u001b[0m\n\u001b[0m",
      "\u001b[0;31mModuleNotFoundError\u001b[0m: No module named 'metis'"
     ]
    }
   ],
   "source": [
    "import metis"
   ]
  },
  {
   "cell_type": "code",
   "execution_count": 126,
   "metadata": {},
   "outputs": [
    {
     "ename": "NotATree",
     "evalue": "lukes_partitioning works only on trees",
     "output_type": "error",
     "traceback": [
      "\u001b[0;31m---------------------------------------------------------------------------\u001b[0m",
      "\u001b[0;31mNotATree\u001b[0m                                  Traceback (most recent call last)",
      "\u001b[0;32m<ipython-input-126-d7e0af2edb07>\u001b[0m in \u001b[0;36m<module>\u001b[0;34m\u001b[0m\n\u001b[1;32m      1\u001b[0m \u001b[0;32mfrom\u001b[0m \u001b[0mnetworkx\u001b[0m\u001b[0;34m.\u001b[0m\u001b[0malgorithms\u001b[0m\u001b[0;34m.\u001b[0m\u001b[0mcommunity\u001b[0m \u001b[0;32mimport\u001b[0m \u001b[0mgreedy_modularity_communities\u001b[0m\u001b[0;34m,\u001b[0m \u001b[0mlukes_partitioning\u001b[0m\u001b[0;34m\u001b[0m\u001b[0;34m\u001b[0m\u001b[0m\n\u001b[1;32m      2\u001b[0m \u001b[0;34m\u001b[0m\u001b[0m\n\u001b[0;32m----> 3\u001b[0;31m \u001b[0mc\u001b[0m \u001b[0;34m=\u001b[0m \u001b[0mlist\u001b[0m\u001b[0;34m(\u001b[0m\u001b[0mlukes_partitioning\u001b[0m\u001b[0;34m(\u001b[0m\u001b[0mG\u001b[0m\u001b[0;34m,\u001b[0m\u001b[0;36m3\u001b[0m\u001b[0;34m)\u001b[0m\u001b[0;34m)\u001b[0m\u001b[0;34m\u001b[0m\u001b[0;34m\u001b[0m\u001b[0m\n\u001b[0m",
      "\u001b[0;32m/opt/conda/lib/python3.7/site-packages/networkx/algorithms/community/lukes.py\u001b[0m in \u001b[0;36mlukes_partitioning\u001b[0;34m(G, max_size, node_weight, edge_weight)\u001b[0m\n\u001b[1;32m     74\u001b[0m     \u001b[0;31m# First sanity check and tree preparation\u001b[0m\u001b[0;34m\u001b[0m\u001b[0;34m\u001b[0m\u001b[0;34m\u001b[0m\u001b[0m\n\u001b[1;32m     75\u001b[0m     \u001b[0;32mif\u001b[0m \u001b[0;32mnot\u001b[0m \u001b[0mnx\u001b[0m\u001b[0;34m.\u001b[0m\u001b[0mis_tree\u001b[0m\u001b[0;34m(\u001b[0m\u001b[0mG\u001b[0m\u001b[0;34m)\u001b[0m\u001b[0;34m:\u001b[0m\u001b[0;34m\u001b[0m\u001b[0;34m\u001b[0m\u001b[0m\n\u001b[0;32m---> 76\u001b[0;31m         \u001b[0;32mraise\u001b[0m \u001b[0mnx\u001b[0m\u001b[0;34m.\u001b[0m\u001b[0mNotATree\u001b[0m\u001b[0;34m(\u001b[0m\u001b[0;34m\"lukes_partitioning works only on trees\"\u001b[0m\u001b[0;34m)\u001b[0m\u001b[0;34m\u001b[0m\u001b[0;34m\u001b[0m\u001b[0m\n\u001b[0m\u001b[1;32m     77\u001b[0m     \u001b[0;32melse\u001b[0m\u001b[0;34m:\u001b[0m\u001b[0;34m\u001b[0m\u001b[0;34m\u001b[0m\u001b[0m\n\u001b[1;32m     78\u001b[0m         \u001b[0;32mif\u001b[0m \u001b[0mnx\u001b[0m\u001b[0;34m.\u001b[0m\u001b[0mis_directed\u001b[0m\u001b[0;34m(\u001b[0m\u001b[0mG\u001b[0m\u001b[0;34m)\u001b[0m\u001b[0;34m:\u001b[0m\u001b[0;34m\u001b[0m\u001b[0;34m\u001b[0m\u001b[0m\n",
      "\u001b[0;31mNotATree\u001b[0m: lukes_partitioning works only on trees"
     ]
    }
   ],
   "source": [
    "from networkx.algorithms.community import greedy_modularity_communities, lukes_partitioning\n",
    "\n",
    "c = list(lukes_partitioning(G,3))"
   ]
  },
  {
   "cell_type": "code",
   "execution_count": 124,
   "metadata": {},
   "outputs": [
    {
     "data": {
      "text/plain": [
       "[frozenset({1, 2, 4}), frozenset({0, 3})]"
      ]
     },
     "execution_count": 124,
     "metadata": {},
     "output_type": "execute_result"
    }
   ],
   "source": [
    "c"
   ]
  },
  {
   "cell_type": "code",
   "execution_count": 116,
   "metadata": {},
   "outputs": [
    {
     "data": {
      "text/plain": [
       "[array([2, 3]),\n",
       " array([2, 3, 4]),\n",
       " array([0, 1, 4]),\n",
       " array([0, 1]),\n",
       " array([1, 2])]"
      ]
     },
     "execution_count": 116,
     "metadata": {},
     "output_type": "execute_result"
    }
   ],
   "source": [
    "neighbors"
   ]
  },
  {
   "cell_type": "code",
   "execution_count": 110,
   "metadata": {},
   "outputs": [
    {
     "data": {
      "text/plain": [
       "array([[0, 2],\n",
       "       [0, 3],\n",
       "       [1, 2],\n",
       "       [1, 3],\n",
       "       [1, 4],\n",
       "       [2, 0],\n",
       "       [2, 1],\n",
       "       [2, 4],\n",
       "       [3, 0],\n",
       "       [3, 1],\n",
       "       [4, 1],\n",
       "       [4, 2]])"
      ]
     },
     "execution_count": 110,
     "metadata": {},
     "output_type": "execute_result"
    }
   ],
   "source": [
    "result"
   ]
  },
  {
   "cell_type": "code",
   "execution_count": 107,
   "metadata": {},
   "outputs": [
    {
     "data": {
      "text/plain": [
       "array([[0, 2],\n",
       "       [0, 3],\n",
       "       [1, 2],\n",
       "       [1, 3],\n",
       "       [1, 4],\n",
       "       [2, 0],\n",
       "       [2, 1],\n",
       "       [2, 4],\n",
       "       [3, 0],\n",
       "       [3, 1],\n",
       "       [4, 1],\n",
       "       [4, 2]])"
      ]
     },
     "execution_count": 107,
     "metadata": {},
     "output_type": "execute_result"
    }
   ],
   "source": [
    "labels = list(range(S))\n",
    "\n",
    "result"
   ]
  },
  {
   "cell_type": "code",
   "execution_count": 134,
   "metadata": {},
   "outputs": [
    {
     "name": "stdout",
     "output_type": "stream",
     "text": [
      "It took 3 attempt(s) to generate the puzzle.\n"
     ]
    }
   ],
   "source": [
    "_,_,test = starbattle_generator(S,N)"
   ]
  },
  {
   "cell_type": "code",
   "execution_count": 136,
   "metadata": {},
   "outputs": [
    {
     "data": {
      "image/png": "[encoded data removed]",
      "text/plain": [
       "<Figure size 432x288 with 1 Axes>"
      ]
     },
     "metadata": {},
     "output_type": "display_data"
    }
   ],
   "source": [
    "G = nx.Graph()\n",
    "for ind, neigh in enumerate(test):\n",
    "    G.add_edges_from([[ind, ne] for ne in neigh])\n",
    "nx.draw_spring(G, with_labels=True)"
   ]
  },
  {
   "cell_type": "code",
   "execution_count": null,
   "metadata": {},
   "outputs": [],
   "source": [
    "from itertools import product\n",
    "from string import ascii_uppercase as ABC\n",
    "from time import time\n",
    "\n",
    "\n",
    "def _insert_newlines(string, every=128):\n",
    "    return \"\\n\".join(string[i:i + every] for i in range(0, len(string), every))\n",
    "\n",
    "\n",
    "def main(grid):\n",
    "    t0 = time()\n",
    "    S = grid.count(\"\\n\")\n",
    "    LENGHT = S * S\n",
    "    N = int(grid[0])\n",
    "    TOTAL = N * S\n",
    "    grid = \"\".join(grid[1:].split())\n",
    "    possibles = tuple(set(i for i in range(LENGHT) if grid[i] is l)\n",
    "                    for l in ABC[:S])\n",
    "    regions = sorted(range(S), key=lambda x: grid.count(ABC[:S][x]))\n",
    "    adjacent = []\n",
    "    for a in range(LENGHT):\n",
    "        cols = [0]\n",
    "        rows = [0]\n",
    "        if a % S > 0:\n",
    "            cols.append(-1)\n",
    "        if a % S < S - 1:\n",
    "            cols.append(1)\n",
    "        if a // S > 0:\n",
    "            rows.append(-S)\n",
    "        if a // S < S - 1:\n",
    "            rows.append(S)\n",
    "        adjacent.append(set(a + sum(i) for i in product(cols, rows)))\n",
    "    cs = tuple(set(range(i, LENGHT, S)) for i in range(S))\n",
    "    rs = (0,) * S + tuple(set(range(i * S, i * S + S)) for i in range(S))\n",
    "    cr = tuple((i % S, i // S + S) for i in range(LENGHT))\n",
    "\n",
    "    def solve(grid, impossibles, colrows, count=0):\n",
    "        if count == TOTAL:\n",
    "            return grid\n",
    "        for a in possibles[regions[count // N]] - impossibles:\n",
    "            c, r = cr[a]\n",
    "            tryimpossibles = impossibles | adjacent[a]\n",
    "            trycolrows = colrows[:]\n",
    "            trycolrows[c] += 1\n",
    "            trycolrows[r] += 1\n",
    "            if trycolrows[c] == N:\n",
    "                tryimpossibles.update(cs[c])\n",
    "            if trycolrows[r] == N:\n",
    "                tryimpossibles.update(rs[r])\n",
    "            s = solve(grid + (a,), tryimpossibles, trycolrows, count + 1)\n",
    "            if s:\n",
    "                break\n",
    "        else:\n",
    "            return None\n",
    "        return s\n",
    "    s = solve((), set(), bytearray(S + S))\n",
    "    if s:\n",
    "        s = \"\".join(\"*\" if i in s else \".\" for i in range(LENGHT))\n",
    "        print(_insert_newlines(s, S))\n",
    "    print(\"Took\", time() - t0, \"seconds\")"
   ]
  }
 ],
 "metadata": {
  "kernelspec": {
   "display_name": "Python 3",
   "language": "python",
   "name": "python3"
  },
  "language_info": {
   "codemirror_mode": {
    "name": "ipython",
    "version": 3
   },
   "file_extension": ".py",
   "mimetype": "text/x-python",
   "name": "python",
   "nbconvert_exporter": "python",
   "pygments_lexer": "ipython3",
   "version": "3.7.6"
  }
 },
 "nbformat": 4,
 "nbformat_minor": 4
}
